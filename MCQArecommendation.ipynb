{
  "nbformat": 4,
  "nbformat_minor": 0,
  "metadata": {
    "colab": {
      "provenance": [],
      "authorship_tag": "ABX9TyMlYxy0YNywJOZE7NyOSiYO",
      "include_colab_link": true
    },
    "kernelspec": {
      "name": "python3",
      "display_name": "Python 3"
    },
    "language_info": {
      "name": "python"
    }
  },
  "cells": [
    {
      "cell_type": "markdown",
      "metadata": {
        "id": "view-in-github",
        "colab_type": "text"
      },
      "source": [
        "<a href=\"https://colab.research.google.com/github/ankesh86/RecommendationSystems/blob/main/MCQArecommendation.ipynb\" target=\"_parent\"><img src=\"https://colab.research.google.com/assets/colab-badge.svg\" alt=\"Open In Colab\"/></a>"
      ]
    },
    {
      "cell_type": "code",
      "execution_count": 2,
      "metadata": {
        "id": "HF0IBtpvJOIR"
      },
      "outputs": [],
      "source": [
        "import pandas as pd\n",
        "from sklearn.feature_extraction.text import CountVectorizer\n",
        "from sklearn.metrics.pairwise import cosine_similarity, manhattan_distances, euclidean_distances\n",
        "#from sklearn.feature_extraction import TfidfVectorizer\n",
        "from sklearn.feature_extraction.text import TfidfVectorizer\n",
        "\n",
        "import re\n",
        "from gensim import models\n",
        "import numpy as np\n",
        "import matplotlib.pyplot as plt\n",
        "import matplotlib.style\n",
        "%matplotlib inline\n",
        "from gensim.models import FastText as ft\n",
        "from IPython.display import Image\n",
        "import os\n",
        "import json"
      ]
    },
    {
      "cell_type": "markdown",
      "source": [
        "# **Loading Data**"
      ],
      "metadata": {
        "id": "ZFVjE1OzThwC"
      }
    },
    {
      "cell_type": "code",
      "source": [
        "import pandas as pd\n",
        "import json\n",
        "\n",
        "# Load the JSON data from the file\n",
        "with open('sample_data/test.json', 'r') as file:\n",
        "    data = [json.loads(line) for line in file.read().splitlines() if line.strip()]\n",
        "\n",
        "# Create a DataFrame from the JSON data\n",
        "df = pd.DataFrame(data)"
      ],
      "metadata": {
        "id": "2HDzu0AkQrP5"
      },
      "execution_count": 75,
      "outputs": []
    },
    {
      "cell_type": "code",
      "source": [
        "df['MCQAid'] = df.reset_index().index + 1"
      ],
      "metadata": {
        "id": "3hK0pKL8S8KX"
      },
      "execution_count": 76,
      "outputs": []
    },
    {
      "cell_type": "code",
      "source": [
        "df.head()"
      ],
      "metadata": {
        "colab": {
          "base_uri": "https://localhost:8080/",
          "height": 486
        },
        "id": "pfGiEz4KSC1i",
        "outputId": "f053d338-41a3-4cda-ea27-8535b29f9db4"
      },
      "execution_count": 77,
      "outputs": [
        {
          "output_type": "execute_result",
          "data": {
            "text/plain": [
              "                                            question                     opa  \\\n",
              "0  Which of the following is derived from fibrobl...                  TGF-13   \n",
              "1  In Alleged history of gun shot injury.there is...  Close shot entry wound   \n",
              "2  Which macrolide is active against Mycobaterium...            Azithromycin   \n",
              "3     Xanthenuric acid is produced in metabolism of?                Tyrosine   \n",
              "4                  Most common site of direct hernia   Hesselbach's triangle   \n",
              "\n",
              "                     opb                       opc                      opd  \\\n",
              "0                   MMP2                  Collagen             Angiopoietin   \n",
              "1  Close shot exit wound  Distant shot entry wound  distant shot exit wound   \n",
              "2          Roxithromycin            Clarithromycin               Framycetin   \n",
              "3                Glycine                Methionine               Tryptophan   \n",
              "4          Femoral gland      No site predilection                     None   \n",
              "\n",
              "        subject_name topic_name                                    id  \\\n",
              "0          Pathology       None  84f328d3-fca4-422d-8fb2-19d55eb31503   \n",
              "1  Forensic Medicine       None  bb85e248-b2e9-48e8-a887-67c1aff15b6d   \n",
              "2       Pharmacology       None  f6ce5597-c646-4a2b-8767-764f185be603   \n",
              "3            Unknown       None  21fe4c49-f0cd-4c31-8eec-3966bbfb963e   \n",
              "4            Surgery       None  9c82e23e-714e-422b-a4fa-e89aef919819   \n",
              "\n",
              "  choice_type  MCQAid  \n",
              "0      single       1  \n",
              "1       multi       2  \n",
              "2      single       3  \n",
              "3      single       4  \n",
              "4       multi       5  "
            ],
            "text/html": [
              "\n",
              "  <div id=\"df-f0e64ecc-e59f-4b05-af59-609489f93ee8\" class=\"colab-df-container\">\n",
              "    <div>\n",
              "<style scoped>\n",
              "    .dataframe tbody tr th:only-of-type {\n",
              "        vertical-align: middle;\n",
              "    }\n",
              "\n",
              "    .dataframe tbody tr th {\n",
              "        vertical-align: top;\n",
              "    }\n",
              "\n",
              "    .dataframe thead th {\n",
              "        text-align: right;\n",
              "    }\n",
              "</style>\n",
              "<table border=\"1\" class=\"dataframe\">\n",
              "  <thead>\n",
              "    <tr style=\"text-align: right;\">\n",
              "      <th></th>\n",
              "      <th>question</th>\n",
              "      <th>opa</th>\n",
              "      <th>opb</th>\n",
              "      <th>opc</th>\n",
              "      <th>opd</th>\n",
              "      <th>subject_name</th>\n",
              "      <th>topic_name</th>\n",
              "      <th>id</th>\n",
              "      <th>choice_type</th>\n",
              "      <th>MCQAid</th>\n",
              "    </tr>\n",
              "  </thead>\n",
              "  <tbody>\n",
              "    <tr>\n",
              "      <th>0</th>\n",
              "      <td>Which of the following is derived from fibrobl...</td>\n",
              "      <td>TGF-13</td>\n",
              "      <td>MMP2</td>\n",
              "      <td>Collagen</td>\n",
              "      <td>Angiopoietin</td>\n",
              "      <td>Pathology</td>\n",
              "      <td>None</td>\n",
              "      <td>84f328d3-fca4-422d-8fb2-19d55eb31503</td>\n",
              "      <td>single</td>\n",
              "      <td>1</td>\n",
              "    </tr>\n",
              "    <tr>\n",
              "      <th>1</th>\n",
              "      <td>In Alleged history of gun shot injury.there is...</td>\n",
              "      <td>Close shot entry wound</td>\n",
              "      <td>Close shot exit wound</td>\n",
              "      <td>Distant shot entry wound</td>\n",
              "      <td>distant shot exit wound</td>\n",
              "      <td>Forensic Medicine</td>\n",
              "      <td>None</td>\n",
              "      <td>bb85e248-b2e9-48e8-a887-67c1aff15b6d</td>\n",
              "      <td>multi</td>\n",
              "      <td>2</td>\n",
              "    </tr>\n",
              "    <tr>\n",
              "      <th>2</th>\n",
              "      <td>Which macrolide is active against Mycobaterium...</td>\n",
              "      <td>Azithromycin</td>\n",
              "      <td>Roxithromycin</td>\n",
              "      <td>Clarithromycin</td>\n",
              "      <td>Framycetin</td>\n",
              "      <td>Pharmacology</td>\n",
              "      <td>None</td>\n",
              "      <td>f6ce5597-c646-4a2b-8767-764f185be603</td>\n",
              "      <td>single</td>\n",
              "      <td>3</td>\n",
              "    </tr>\n",
              "    <tr>\n",
              "      <th>3</th>\n",
              "      <td>Xanthenuric acid is produced in metabolism of?</td>\n",
              "      <td>Tyrosine</td>\n",
              "      <td>Glycine</td>\n",
              "      <td>Methionine</td>\n",
              "      <td>Tryptophan</td>\n",
              "      <td>Unknown</td>\n",
              "      <td>None</td>\n",
              "      <td>21fe4c49-f0cd-4c31-8eec-3966bbfb963e</td>\n",
              "      <td>single</td>\n",
              "      <td>4</td>\n",
              "    </tr>\n",
              "    <tr>\n",
              "      <th>4</th>\n",
              "      <td>Most common site of direct hernia</td>\n",
              "      <td>Hesselbach's triangle</td>\n",
              "      <td>Femoral gland</td>\n",
              "      <td>No site predilection</td>\n",
              "      <td>None</td>\n",
              "      <td>Surgery</td>\n",
              "      <td>None</td>\n",
              "      <td>9c82e23e-714e-422b-a4fa-e89aef919819</td>\n",
              "      <td>multi</td>\n",
              "      <td>5</td>\n",
              "    </tr>\n",
              "  </tbody>\n",
              "</table>\n",
              "</div>\n",
              "    <div class=\"colab-df-buttons\">\n",
              "\n",
              "  <div class=\"colab-df-container\">\n",
              "    <button class=\"colab-df-convert\" onclick=\"convertToInteractive('df-f0e64ecc-e59f-4b05-af59-609489f93ee8')\"\n",
              "            title=\"Convert this dataframe to an interactive table.\"\n",
              "            style=\"display:none;\">\n",
              "\n",
              "  <svg xmlns=\"http://www.w3.org/2000/svg\" height=\"24px\" viewBox=\"0 -960 960 960\">\n",
              "    <path d=\"M120-120v-720h720v720H120Zm60-500h600v-160H180v160Zm220 220h160v-160H400v160Zm0 220h160v-160H400v160ZM180-400h160v-160H180v160Zm440 0h160v-160H620v160ZM180-180h160v-160H180v160Zm440 0h160v-160H620v160Z\"/>\n",
              "  </svg>\n",
              "    </button>\n",
              "\n",
              "  <style>\n",
              "    .colab-df-container {\n",
              "      display:flex;\n",
              "      gap: 12px;\n",
              "    }\n",
              "\n",
              "    .colab-df-convert {\n",
              "      background-color: #E8F0FE;\n",
              "      border: none;\n",
              "      border-radius: 50%;\n",
              "      cursor: pointer;\n",
              "      display: none;\n",
              "      fill: #1967D2;\n",
              "      height: 32px;\n",
              "      padding: 0 0 0 0;\n",
              "      width: 32px;\n",
              "    }\n",
              "\n",
              "    .colab-df-convert:hover {\n",
              "      background-color: #E2EBFA;\n",
              "      box-shadow: 0px 1px 2px rgba(60, 64, 67, 0.3), 0px 1px 3px 1px rgba(60, 64, 67, 0.15);\n",
              "      fill: #174EA6;\n",
              "    }\n",
              "\n",
              "    .colab-df-buttons div {\n",
              "      margin-bottom: 4px;\n",
              "    }\n",
              "\n",
              "    [theme=dark] .colab-df-convert {\n",
              "      background-color: #3B4455;\n",
              "      fill: #D2E3FC;\n",
              "    }\n",
              "\n",
              "    [theme=dark] .colab-df-convert:hover {\n",
              "      background-color: #434B5C;\n",
              "      box-shadow: 0px 1px 3px 1px rgba(0, 0, 0, 0.15);\n",
              "      filter: drop-shadow(0px 1px 2px rgba(0, 0, 0, 0.3));\n",
              "      fill: #FFFFFF;\n",
              "    }\n",
              "  </style>\n",
              "\n",
              "    <script>\n",
              "      const buttonEl =\n",
              "        document.querySelector('#df-f0e64ecc-e59f-4b05-af59-609489f93ee8 button.colab-df-convert');\n",
              "      buttonEl.style.display =\n",
              "        google.colab.kernel.accessAllowed ? 'block' : 'none';\n",
              "\n",
              "      async function convertToInteractive(key) {\n",
              "        const element = document.querySelector('#df-f0e64ecc-e59f-4b05-af59-609489f93ee8');\n",
              "        const dataTable =\n",
              "          await google.colab.kernel.invokeFunction('convertToInteractive',\n",
              "                                                    [key], {});\n",
              "        if (!dataTable) return;\n",
              "\n",
              "        const docLinkHtml = 'Like what you see? Visit the ' +\n",
              "          '<a target=\"_blank\" href=https://colab.research.google.com/notebooks/data_table.ipynb>data table notebook</a>'\n",
              "          + ' to learn more about interactive tables.';\n",
              "        element.innerHTML = '';\n",
              "        dataTable['output_type'] = 'display_data';\n",
              "        await google.colab.output.renderOutput(dataTable, element);\n",
              "        const docLink = document.createElement('div');\n",
              "        docLink.innerHTML = docLinkHtml;\n",
              "        element.appendChild(docLink);\n",
              "      }\n",
              "    </script>\n",
              "  </div>\n",
              "\n",
              "\n",
              "<div id=\"df-49fb2c78-840b-4593-87ad-56a63d691b8b\">\n",
              "  <button class=\"colab-df-quickchart\" onclick=\"quickchart('df-49fb2c78-840b-4593-87ad-56a63d691b8b')\"\n",
              "            title=\"Suggest charts\"\n",
              "            style=\"display:none;\">\n",
              "\n",
              "<svg xmlns=\"http://www.w3.org/2000/svg\" height=\"24px\"viewBox=\"0 0 24 24\"\n",
              "     width=\"24px\">\n",
              "    <g>\n",
              "        <path d=\"M19 3H5c-1.1 0-2 .9-2 2v14c0 1.1.9 2 2 2h14c1.1 0 2-.9 2-2V5c0-1.1-.9-2-2-2zM9 17H7v-7h2v7zm4 0h-2V7h2v10zm4 0h-2v-4h2v4z\"/>\n",
              "    </g>\n",
              "</svg>\n",
              "  </button>\n",
              "\n",
              "<style>\n",
              "  .colab-df-quickchart {\n",
              "      --bg-color: #E8F0FE;\n",
              "      --fill-color: #1967D2;\n",
              "      --hover-bg-color: #E2EBFA;\n",
              "      --hover-fill-color: #174EA6;\n",
              "      --disabled-fill-color: #AAA;\n",
              "      --disabled-bg-color: #DDD;\n",
              "  }\n",
              "\n",
              "  [theme=dark] .colab-df-quickchart {\n",
              "      --bg-color: #3B4455;\n",
              "      --fill-color: #D2E3FC;\n",
              "      --hover-bg-color: #434B5C;\n",
              "      --hover-fill-color: #FFFFFF;\n",
              "      --disabled-bg-color: #3B4455;\n",
              "      --disabled-fill-color: #666;\n",
              "  }\n",
              "\n",
              "  .colab-df-quickchart {\n",
              "    background-color: var(--bg-color);\n",
              "    border: none;\n",
              "    border-radius: 50%;\n",
              "    cursor: pointer;\n",
              "    display: none;\n",
              "    fill: var(--fill-color);\n",
              "    height: 32px;\n",
              "    padding: 0;\n",
              "    width: 32px;\n",
              "  }\n",
              "\n",
              "  .colab-df-quickchart:hover {\n",
              "    background-color: var(--hover-bg-color);\n",
              "    box-shadow: 0 1px 2px rgba(60, 64, 67, 0.3), 0 1px 3px 1px rgba(60, 64, 67, 0.15);\n",
              "    fill: var(--button-hover-fill-color);\n",
              "  }\n",
              "\n",
              "  .colab-df-quickchart-complete:disabled,\n",
              "  .colab-df-quickchart-complete:disabled:hover {\n",
              "    background-color: var(--disabled-bg-color);\n",
              "    fill: var(--disabled-fill-color);\n",
              "    box-shadow: none;\n",
              "  }\n",
              "\n",
              "  .colab-df-spinner {\n",
              "    border: 2px solid var(--fill-color);\n",
              "    border-color: transparent;\n",
              "    border-bottom-color: var(--fill-color);\n",
              "    animation:\n",
              "      spin 1s steps(1) infinite;\n",
              "  }\n",
              "\n",
              "  @keyframes spin {\n",
              "    0% {\n",
              "      border-color: transparent;\n",
              "      border-bottom-color: var(--fill-color);\n",
              "      border-left-color: var(--fill-color);\n",
              "    }\n",
              "    20% {\n",
              "      border-color: transparent;\n",
              "      border-left-color: var(--fill-color);\n",
              "      border-top-color: var(--fill-color);\n",
              "    }\n",
              "    30% {\n",
              "      border-color: transparent;\n",
              "      border-left-color: var(--fill-color);\n",
              "      border-top-color: var(--fill-color);\n",
              "      border-right-color: var(--fill-color);\n",
              "    }\n",
              "    40% {\n",
              "      border-color: transparent;\n",
              "      border-right-color: var(--fill-color);\n",
              "      border-top-color: var(--fill-color);\n",
              "    }\n",
              "    60% {\n",
              "      border-color: transparent;\n",
              "      border-right-color: var(--fill-color);\n",
              "    }\n",
              "    80% {\n",
              "      border-color: transparent;\n",
              "      border-right-color: var(--fill-color);\n",
              "      border-bottom-color: var(--fill-color);\n",
              "    }\n",
              "    90% {\n",
              "      border-color: transparent;\n",
              "      border-bottom-color: var(--fill-color);\n",
              "    }\n",
              "  }\n",
              "</style>\n",
              "\n",
              "  <script>\n",
              "    async function quickchart(key) {\n",
              "      const quickchartButtonEl =\n",
              "        document.querySelector('#' + key + ' button');\n",
              "      quickchartButtonEl.disabled = true;  // To prevent multiple clicks.\n",
              "      quickchartButtonEl.classList.add('colab-df-spinner');\n",
              "      try {\n",
              "        const charts = await google.colab.kernel.invokeFunction(\n",
              "            'suggestCharts', [key], {});\n",
              "      } catch (error) {\n",
              "        console.error('Error during call to suggestCharts:', error);\n",
              "      }\n",
              "      quickchartButtonEl.classList.remove('colab-df-spinner');\n",
              "      quickchartButtonEl.classList.add('colab-df-quickchart-complete');\n",
              "    }\n",
              "    (() => {\n",
              "      let quickchartButtonEl =\n",
              "        document.querySelector('#df-49fb2c78-840b-4593-87ad-56a63d691b8b button');\n",
              "      quickchartButtonEl.style.display =\n",
              "        google.colab.kernel.accessAllowed ? 'block' : 'none';\n",
              "    })();\n",
              "  </script>\n",
              "</div>\n",
              "\n",
              "    </div>\n",
              "  </div>\n"
            ],
            "application/vnd.google.colaboratory.intrinsic+json": {
              "type": "dataframe",
              "variable_name": "df",
              "repr_error": "Out of range float values are not JSON compliant: nan"
            }
          },
          "metadata": {},
          "execution_count": 77
        }
      ]
    },
    {
      "cell_type": "code",
      "source": [
        "df.info()"
      ],
      "metadata": {
        "colab": {
          "base_uri": "https://localhost:8080/"
        },
        "id": "mKv8Zk6hTvjD",
        "outputId": "9afa2055-171c-4533-fa59-b05b10e53ad2"
      },
      "execution_count": 78,
      "outputs": [
        {
          "output_type": "stream",
          "name": "stdout",
          "text": [
            "<class 'pandas.core.frame.DataFrame'>\n",
            "RangeIndex: 6150 entries, 0 to 6149\n",
            "Data columns (total 10 columns):\n",
            " #   Column        Non-Null Count  Dtype \n",
            "---  ------        --------------  ----- \n",
            " 0   question      6150 non-null   object\n",
            " 1   opa           6150 non-null   object\n",
            " 2   opb           6150 non-null   object\n",
            " 3   opc           6150 non-null   object\n",
            " 4   opd           6150 non-null   object\n",
            " 5   subject_name  6150 non-null   object\n",
            " 6   topic_name    0 non-null      object\n",
            " 7   id            6150 non-null   object\n",
            " 8   choice_type   6150 non-null   object\n",
            " 9   MCQAid        6150 non-null   int64 \n",
            "dtypes: int64(1), object(9)\n",
            "memory usage: 480.6+ KB\n"
          ]
        }
      ]
    },
    {
      "cell_type": "code",
      "source": [
        "df.shape"
      ],
      "metadata": {
        "colab": {
          "base_uri": "https://localhost:8080/"
        },
        "id": "d5s4Xg7QUGWl",
        "outputId": "9b4dd6ca-1eb0-4604-a825-240be7315f89"
      },
      "execution_count": 83,
      "outputs": [
        {
          "output_type": "execute_result",
          "data": {
            "text/plain": [
              "(5468, 11)"
            ]
          },
          "metadata": {},
          "execution_count": 83
        }
      ]
    },
    {
      "cell_type": "code",
      "source": [
        "df.isnull().sum(axis=0)"
      ],
      "metadata": {
        "colab": {
          "base_uri": "https://localhost:8080/"
        },
        "id": "sujaQpGDUNei",
        "outputId": "2cd32973-6069-4dcf-dd5c-252b221c1d65"
      },
      "execution_count": 80,
      "outputs": [
        {
          "output_type": "execute_result",
          "data": {
            "text/plain": [
              "question           0\n",
              "opa                0\n",
              "opb                0\n",
              "opc                0\n",
              "opd                0\n",
              "subject_name       0\n",
              "topic_name      6150\n",
              "id                 0\n",
              "choice_type        0\n",
              "MCQAid             0\n",
              "dtype: int64"
            ]
          },
          "metadata": {},
          "execution_count": 80
        }
      ]
    },
    {
      "cell_type": "markdown",
      "source": [
        "# **Text pre-processing**"
      ],
      "metadata": {
        "id": "XX7mwGpqUVXZ"
      }
    },
    {
      "cell_type": "code",
      "source": [
        "## combining product and description\n",
        "df['StringCombined'] = df['question'] + ' ' +df['opa']+ ' ' +df['opb']+ ' ' +df['opc']+ ' ' +df['opd']\n",
        "\n",
        "df = df[df['subject_name'] != 'Unknown']\n",
        "\n",
        "##dropping duplicates and keeping first records\n",
        "unique_df = df.drop_duplicates(subset=['StringCombined'], keep='first')\n",
        "\n",
        "## Converting String to Lower Case\n",
        "unique_df['mcqa_lowered'] = unique_df['StringCombined'].apply(lambda x:x.lower())\n",
        "\n",
        "## remove Stop special characters\n",
        "unique_df['mcqa_lowered'] = unique_df['mcqa_lowered'].apply(lambda x:re.sub(r'[^\\w\\s]','',x))\n",
        "\n",
        "#converting description to list\n",
        "desc_list = list(unique_df['mcqa_lowered'])\n",
        "unique_df = unique_df.reset_index(drop=True)"
      ],
      "metadata": {
        "id": "dWzzcbddUSVB"
      },
      "execution_count": 81,
      "outputs": []
    },
    {
      "cell_type": "code",
      "source": [
        "unique_df.head()"
      ],
      "metadata": {
        "colab": {
          "base_uri": "https://localhost:8080/",
          "height": 486
        },
        "id": "loYz9macVKrb",
        "outputId": "3e60cf83-cafa-40cd-8a4c-b92d2b28b444"
      },
      "execution_count": 82,
      "outputs": [
        {
          "output_type": "execute_result",
          "data": {
            "text/plain": [
              "                                            question                     opa  \\\n",
              "0  Which of the following is derived from fibrobl...                  TGF-13   \n",
              "1  In Alleged history of gun shot injury.there is...  Close shot entry wound   \n",
              "2  Which macrolide is active against Mycobaterium...            Azithromycin   \n",
              "3                  Most common site of direct hernia   Hesselbach's triangle   \n",
              "4  Resistance to lateral shifting or anteroposter...              Retention.   \n",
              "\n",
              "                     opb                       opc                      opd  \\\n",
              "0                   MMP2                  Collagen             Angiopoietin   \n",
              "1  Close shot exit wound  Distant shot entry wound  distant shot exit wound   \n",
              "2          Roxithromycin            Clarithromycin               Framycetin   \n",
              "3          Femoral gland      No site predilection                     None   \n",
              "4             Stability.                  Support.                    None.   \n",
              "\n",
              "        subject_name topic_name                                    id  \\\n",
              "0          Pathology       None  84f328d3-fca4-422d-8fb2-19d55eb31503   \n",
              "1  Forensic Medicine       None  bb85e248-b2e9-48e8-a887-67c1aff15b6d   \n",
              "2       Pharmacology       None  f6ce5597-c646-4a2b-8767-764f185be603   \n",
              "3            Surgery       None  9c82e23e-714e-422b-a4fa-e89aef919819   \n",
              "4             Dental       None  ae87fc33-56eb-43b1-a558-e8e2bb918349   \n",
              "\n",
              "  choice_type  MCQAid                                     StringCombined  \\\n",
              "0      single       1  Which of the following is derived from fibrobl...   \n",
              "1       multi       2  In Alleged history of gun shot injury.there is...   \n",
              "2      single       3  Which macrolide is active against Mycobaterium...   \n",
              "3       multi       5  Most common site of direct hernia Hesselbach's...   \n",
              "4       multi       6  Resistance to lateral shifting or anteroposter...   \n",
              "\n",
              "                                        mcqa_lowered  \n",
              "0  which of the following is derived from fibrobl...  \n",
              "1  in alleged history of gun shot injurythere is ...  \n",
              "2  which macrolide is active against mycobaterium...  \n",
              "3  most common site of direct hernia hesselbachs ...  \n",
              "4  resistance to lateral shifting or anteroposter...  "
            ],
            "text/html": [
              "\n",
              "  <div id=\"df-8770728f-00a0-49e3-a1df-a34ed024a847\" class=\"colab-df-container\">\n",
              "    <div>\n",
              "<style scoped>\n",
              "    .dataframe tbody tr th:only-of-type {\n",
              "        vertical-align: middle;\n",
              "    }\n",
              "\n",
              "    .dataframe tbody tr th {\n",
              "        vertical-align: top;\n",
              "    }\n",
              "\n",
              "    .dataframe thead th {\n",
              "        text-align: right;\n",
              "    }\n",
              "</style>\n",
              "<table border=\"1\" class=\"dataframe\">\n",
              "  <thead>\n",
              "    <tr style=\"text-align: right;\">\n",
              "      <th></th>\n",
              "      <th>question</th>\n",
              "      <th>opa</th>\n",
              "      <th>opb</th>\n",
              "      <th>opc</th>\n",
              "      <th>opd</th>\n",
              "      <th>subject_name</th>\n",
              "      <th>topic_name</th>\n",
              "      <th>id</th>\n",
              "      <th>choice_type</th>\n",
              "      <th>MCQAid</th>\n",
              "      <th>StringCombined</th>\n",
              "      <th>mcqa_lowered</th>\n",
              "    </tr>\n",
              "  </thead>\n",
              "  <tbody>\n",
              "    <tr>\n",
              "      <th>0</th>\n",
              "      <td>Which of the following is derived from fibrobl...</td>\n",
              "      <td>TGF-13</td>\n",
              "      <td>MMP2</td>\n",
              "      <td>Collagen</td>\n",
              "      <td>Angiopoietin</td>\n",
              "      <td>Pathology</td>\n",
              "      <td>None</td>\n",
              "      <td>84f328d3-fca4-422d-8fb2-19d55eb31503</td>\n",
              "      <td>single</td>\n",
              "      <td>1</td>\n",
              "      <td>Which of the following is derived from fibrobl...</td>\n",
              "      <td>which of the following is derived from fibrobl...</td>\n",
              "    </tr>\n",
              "    <tr>\n",
              "      <th>1</th>\n",
              "      <td>In Alleged history of gun shot injury.there is...</td>\n",
              "      <td>Close shot entry wound</td>\n",
              "      <td>Close shot exit wound</td>\n",
              "      <td>Distant shot entry wound</td>\n",
              "      <td>distant shot exit wound</td>\n",
              "      <td>Forensic Medicine</td>\n",
              "      <td>None</td>\n",
              "      <td>bb85e248-b2e9-48e8-a887-67c1aff15b6d</td>\n",
              "      <td>multi</td>\n",
              "      <td>2</td>\n",
              "      <td>In Alleged history of gun shot injury.there is...</td>\n",
              "      <td>in alleged history of gun shot injurythere is ...</td>\n",
              "    </tr>\n",
              "    <tr>\n",
              "      <th>2</th>\n",
              "      <td>Which macrolide is active against Mycobaterium...</td>\n",
              "      <td>Azithromycin</td>\n",
              "      <td>Roxithromycin</td>\n",
              "      <td>Clarithromycin</td>\n",
              "      <td>Framycetin</td>\n",
              "      <td>Pharmacology</td>\n",
              "      <td>None</td>\n",
              "      <td>f6ce5597-c646-4a2b-8767-764f185be603</td>\n",
              "      <td>single</td>\n",
              "      <td>3</td>\n",
              "      <td>Which macrolide is active against Mycobaterium...</td>\n",
              "      <td>which macrolide is active against mycobaterium...</td>\n",
              "    </tr>\n",
              "    <tr>\n",
              "      <th>3</th>\n",
              "      <td>Most common site of direct hernia</td>\n",
              "      <td>Hesselbach's triangle</td>\n",
              "      <td>Femoral gland</td>\n",
              "      <td>No site predilection</td>\n",
              "      <td>None</td>\n",
              "      <td>Surgery</td>\n",
              "      <td>None</td>\n",
              "      <td>9c82e23e-714e-422b-a4fa-e89aef919819</td>\n",
              "      <td>multi</td>\n",
              "      <td>5</td>\n",
              "      <td>Most common site of direct hernia Hesselbach's...</td>\n",
              "      <td>most common site of direct hernia hesselbachs ...</td>\n",
              "    </tr>\n",
              "    <tr>\n",
              "      <th>4</th>\n",
              "      <td>Resistance to lateral shifting or anteroposter...</td>\n",
              "      <td>Retention.</td>\n",
              "      <td>Stability.</td>\n",
              "      <td>Support.</td>\n",
              "      <td>None.</td>\n",
              "      <td>Dental</td>\n",
              "      <td>None</td>\n",
              "      <td>ae87fc33-56eb-43b1-a558-e8e2bb918349</td>\n",
              "      <td>multi</td>\n",
              "      <td>6</td>\n",
              "      <td>Resistance to lateral shifting or anteroposter...</td>\n",
              "      <td>resistance to lateral shifting or anteroposter...</td>\n",
              "    </tr>\n",
              "  </tbody>\n",
              "</table>\n",
              "</div>\n",
              "    <div class=\"colab-df-buttons\">\n",
              "\n",
              "  <div class=\"colab-df-container\">\n",
              "    <button class=\"colab-df-convert\" onclick=\"convertToInteractive('df-8770728f-00a0-49e3-a1df-a34ed024a847')\"\n",
              "            title=\"Convert this dataframe to an interactive table.\"\n",
              "            style=\"display:none;\">\n",
              "\n",
              "  <svg xmlns=\"http://www.w3.org/2000/svg\" height=\"24px\" viewBox=\"0 -960 960 960\">\n",
              "    <path d=\"M120-120v-720h720v720H120Zm60-500h600v-160H180v160Zm220 220h160v-160H400v160Zm0 220h160v-160H400v160ZM180-400h160v-160H180v160Zm440 0h160v-160H620v160ZM180-180h160v-160H180v160Zm440 0h160v-160H620v160Z\"/>\n",
              "  </svg>\n",
              "    </button>\n",
              "\n",
              "  <style>\n",
              "    .colab-df-container {\n",
              "      display:flex;\n",
              "      gap: 12px;\n",
              "    }\n",
              "\n",
              "    .colab-df-convert {\n",
              "      background-color: #E8F0FE;\n",
              "      border: none;\n",
              "      border-radius: 50%;\n",
              "      cursor: pointer;\n",
              "      display: none;\n",
              "      fill: #1967D2;\n",
              "      height: 32px;\n",
              "      padding: 0 0 0 0;\n",
              "      width: 32px;\n",
              "    }\n",
              "\n",
              "    .colab-df-convert:hover {\n",
              "      background-color: #E2EBFA;\n",
              "      box-shadow: 0px 1px 2px rgba(60, 64, 67, 0.3), 0px 1px 3px 1px rgba(60, 64, 67, 0.15);\n",
              "      fill: #174EA6;\n",
              "    }\n",
              "\n",
              "    .colab-df-buttons div {\n",
              "      margin-bottom: 4px;\n",
              "    }\n",
              "\n",
              "    [theme=dark] .colab-df-convert {\n",
              "      background-color: #3B4455;\n",
              "      fill: #D2E3FC;\n",
              "    }\n",
              "\n",
              "    [theme=dark] .colab-df-convert:hover {\n",
              "      background-color: #434B5C;\n",
              "      box-shadow: 0px 1px 3px 1px rgba(0, 0, 0, 0.15);\n",
              "      filter: drop-shadow(0px 1px 2px rgba(0, 0, 0, 0.3));\n",
              "      fill: #FFFFFF;\n",
              "    }\n",
              "  </style>\n",
              "\n",
              "    <script>\n",
              "      const buttonEl =\n",
              "        document.querySelector('#df-8770728f-00a0-49e3-a1df-a34ed024a847 button.colab-df-convert');\n",
              "      buttonEl.style.display =\n",
              "        google.colab.kernel.accessAllowed ? 'block' : 'none';\n",
              "\n",
              "      async function convertToInteractive(key) {\n",
              "        const element = document.querySelector('#df-8770728f-00a0-49e3-a1df-a34ed024a847');\n",
              "        const dataTable =\n",
              "          await google.colab.kernel.invokeFunction('convertToInteractive',\n",
              "                                                    [key], {});\n",
              "        if (!dataTable) return;\n",
              "\n",
              "        const docLinkHtml = 'Like what you see? Visit the ' +\n",
              "          '<a target=\"_blank\" href=https://colab.research.google.com/notebooks/data_table.ipynb>data table notebook</a>'\n",
              "          + ' to learn more about interactive tables.';\n",
              "        element.innerHTML = '';\n",
              "        dataTable['output_type'] = 'display_data';\n",
              "        await google.colab.output.renderOutput(dataTable, element);\n",
              "        const docLink = document.createElement('div');\n",
              "        docLink.innerHTML = docLinkHtml;\n",
              "        element.appendChild(docLink);\n",
              "      }\n",
              "    </script>\n",
              "  </div>\n",
              "\n",
              "\n",
              "<div id=\"df-35b6fe87-a40d-4de9-810e-87426a9c33c8\">\n",
              "  <button class=\"colab-df-quickchart\" onclick=\"quickchart('df-35b6fe87-a40d-4de9-810e-87426a9c33c8')\"\n",
              "            title=\"Suggest charts\"\n",
              "            style=\"display:none;\">\n",
              "\n",
              "<svg xmlns=\"http://www.w3.org/2000/svg\" height=\"24px\"viewBox=\"0 0 24 24\"\n",
              "     width=\"24px\">\n",
              "    <g>\n",
              "        <path d=\"M19 3H5c-1.1 0-2 .9-2 2v14c0 1.1.9 2 2 2h14c1.1 0 2-.9 2-2V5c0-1.1-.9-2-2-2zM9 17H7v-7h2v7zm4 0h-2V7h2v10zm4 0h-2v-4h2v4z\"/>\n",
              "    </g>\n",
              "</svg>\n",
              "  </button>\n",
              "\n",
              "<style>\n",
              "  .colab-df-quickchart {\n",
              "      --bg-color: #E8F0FE;\n",
              "      --fill-color: #1967D2;\n",
              "      --hover-bg-color: #E2EBFA;\n",
              "      --hover-fill-color: #174EA6;\n",
              "      --disabled-fill-color: #AAA;\n",
              "      --disabled-bg-color: #DDD;\n",
              "  }\n",
              "\n",
              "  [theme=dark] .colab-df-quickchart {\n",
              "      --bg-color: #3B4455;\n",
              "      --fill-color: #D2E3FC;\n",
              "      --hover-bg-color: #434B5C;\n",
              "      --hover-fill-color: #FFFFFF;\n",
              "      --disabled-bg-color: #3B4455;\n",
              "      --disabled-fill-color: #666;\n",
              "  }\n",
              "\n",
              "  .colab-df-quickchart {\n",
              "    background-color: var(--bg-color);\n",
              "    border: none;\n",
              "    border-radius: 50%;\n",
              "    cursor: pointer;\n",
              "    display: none;\n",
              "    fill: var(--fill-color);\n",
              "    height: 32px;\n",
              "    padding: 0;\n",
              "    width: 32px;\n",
              "  }\n",
              "\n",
              "  .colab-df-quickchart:hover {\n",
              "    background-color: var(--hover-bg-color);\n",
              "    box-shadow: 0 1px 2px rgba(60, 64, 67, 0.3), 0 1px 3px 1px rgba(60, 64, 67, 0.15);\n",
              "    fill: var(--button-hover-fill-color);\n",
              "  }\n",
              "\n",
              "  .colab-df-quickchart-complete:disabled,\n",
              "  .colab-df-quickchart-complete:disabled:hover {\n",
              "    background-color: var(--disabled-bg-color);\n",
              "    fill: var(--disabled-fill-color);\n",
              "    box-shadow: none;\n",
              "  }\n",
              "\n",
              "  .colab-df-spinner {\n",
              "    border: 2px solid var(--fill-color);\n",
              "    border-color: transparent;\n",
              "    border-bottom-color: var(--fill-color);\n",
              "    animation:\n",
              "      spin 1s steps(1) infinite;\n",
              "  }\n",
              "\n",
              "  @keyframes spin {\n",
              "    0% {\n",
              "      border-color: transparent;\n",
              "      border-bottom-color: var(--fill-color);\n",
              "      border-left-color: var(--fill-color);\n",
              "    }\n",
              "    20% {\n",
              "      border-color: transparent;\n",
              "      border-left-color: var(--fill-color);\n",
              "      border-top-color: var(--fill-color);\n",
              "    }\n",
              "    30% {\n",
              "      border-color: transparent;\n",
              "      border-left-color: var(--fill-color);\n",
              "      border-top-color: var(--fill-color);\n",
              "      border-right-color: var(--fill-color);\n",
              "    }\n",
              "    40% {\n",
              "      border-color: transparent;\n",
              "      border-right-color: var(--fill-color);\n",
              "      border-top-color: var(--fill-color);\n",
              "    }\n",
              "    60% {\n",
              "      border-color: transparent;\n",
              "      border-right-color: var(--fill-color);\n",
              "    }\n",
              "    80% {\n",
              "      border-color: transparent;\n",
              "      border-right-color: var(--fill-color);\n",
              "      border-bottom-color: var(--fill-color);\n",
              "    }\n",
              "    90% {\n",
              "      border-color: transparent;\n",
              "      border-bottom-color: var(--fill-color);\n",
              "    }\n",
              "  }\n",
              "</style>\n",
              "\n",
              "  <script>\n",
              "    async function quickchart(key) {\n",
              "      const quickchartButtonEl =\n",
              "        document.querySelector('#' + key + ' button');\n",
              "      quickchartButtonEl.disabled = true;  // To prevent multiple clicks.\n",
              "      quickchartButtonEl.classList.add('colab-df-spinner');\n",
              "      try {\n",
              "        const charts = await google.colab.kernel.invokeFunction(\n",
              "            'suggestCharts', [key], {});\n",
              "      } catch (error) {\n",
              "        console.error('Error during call to suggestCharts:', error);\n",
              "      }\n",
              "      quickchartButtonEl.classList.remove('colab-df-spinner');\n",
              "      quickchartButtonEl.classList.add('colab-df-quickchart-complete');\n",
              "    }\n",
              "    (() => {\n",
              "      let quickchartButtonEl =\n",
              "        document.querySelector('#df-35b6fe87-a40d-4de9-810e-87426a9c33c8 button');\n",
              "      quickchartButtonEl.style.display =\n",
              "        google.colab.kernel.accessAllowed ? 'block' : 'none';\n",
              "    })();\n",
              "  </script>\n",
              "</div>\n",
              "\n",
              "    </div>\n",
              "  </div>\n"
            ],
            "application/vnd.google.colaboratory.intrinsic+json": {
              "type": "dataframe",
              "variable_name": "unique_df",
              "repr_error": "Out of range float values are not JSON compliant: nan"
            }
          },
          "metadata": {},
          "execution_count": 82
        }
      ]
    },
    {
      "cell_type": "markdown",
      "source": [
        "# **Word Embedding**"
      ],
      "metadata": {
        "id": "4hW6rcyaVaXr"
      }
    },
    {
      "cell_type": "code",
      "source": [
        "#importing count vectorizer\n",
        "cnt_vec = CountVectorizer(stop_words = 'english')"
      ],
      "metadata": {
        "id": "KDViWX8sVNd2"
      },
      "execution_count": 84,
      "outputs": []
    },
    {
      "cell_type": "code",
      "source": [
        "#importing IFIDF\n",
        "tfidf_vec = TfidfVectorizer(stop_words='english', analyzer='word', ngram_range=(1,3))"
      ],
      "metadata": {
        "id": "c6tYnnQJVgVA"
      },
      "execution_count": 85,
      "outputs": []
    },
    {
      "cell_type": "markdown",
      "source": [
        "# **Similarity measures**"
      ],
      "metadata": {
        "id": "HKwMNG6yV9T0"
      }
    },
    {
      "cell_type": "code",
      "source": [
        "#Eculedian distance\n",
        "def find_euclidean_distances(sim_matrix, index, n=10):\n",
        "  #Getting Score and Index\n",
        "  result = list(enumerate(sim_matrix[index]))\n",
        "\n",
        "  #Sorting the Score and taking top 10 products\n",
        "  sorted_result = sorted(result, key=lambda x:x[1], reverse=False)[1:10+1]\n",
        "\n",
        "  #Mapping index with data\n",
        "  similar_products = [{'value': unique_df.iloc[x[0]]['question'], 'score':round(x[1], 2), 'subject_name': unique_df.iloc[x[0]]['subject_name']} for x in sorted_result]\n",
        "\n",
        "  return similar_products"
      ],
      "metadata": {
        "id": "xXZ5w5xhV5HF"
      },
      "execution_count": 86,
      "outputs": []
    },
    {
      "cell_type": "code",
      "source": [
        "def find_similarity(cosine_sim_matrix, index, n=10):\n",
        "\n",
        "    # calculate cosine similarity between each vectors\n",
        "    result = list(enumerate(cosine_sim_matrix[index]))\n",
        "\n",
        "    # Sorting the Score\n",
        "    sorted_result = sorted(result,key=lambda x:x[1],reverse=True)[1:n+1]\n",
        "\n",
        "    similar_products =  [{'value': unique_df.iloc[x[0]]['question'], 'score' : round(x[1], 2), 'subject_name': unique_df.iloc[x[0]]['subject_name']} for x in sorted_result]\n",
        "\n",
        "    return similar_products"
      ],
      "metadata": {
        "id": "wShrvgPPWB3k"
      },
      "execution_count": 87,
      "outputs": []
    },
    {
      "cell_type": "code",
      "source": [
        "#Manhattan similarity\n",
        "def find_manhattan_distance(sim_matrix, index, n=10):\n",
        "  #Getting Score and Index\n",
        "  result = list(enumerate(sim_matrix[index]))\n",
        "\n",
        "  #Sorting the Score and taking top 10 products\n",
        "  sorted_result = sorted(result, key=lambda x:x[1], reverse=False)[1:10+1]\n",
        "\n",
        "  #Mapping index with data\n",
        "  similar_products = [{'value': unique_df.iloc[x[0]]['question'], 'score':round(x[1], 2), 'subject_name': unique_df.iloc[x[0]]['subject_name']} for x in sorted_result]\n",
        "\n",
        "  return similar_products"
      ],
      "metadata": {
        "id": "jKBYuQHXWPWs"
      },
      "execution_count": 88,
      "outputs": []
    },
    {
      "cell_type": "markdown",
      "source": [
        "# **Recommendation using Count Vectorizer**"
      ],
      "metadata": {
        "id": "nJ17EX3IW1Yx"
      }
    },
    {
      "cell_type": "code",
      "source": [
        "# Function to get recommendations using Count Vectorizer\n",
        "def get_recommendation_cv(MCQAid, df, similarity, n=10):\n",
        "    row = df.loc[df['MCQAid'] == MCQAid]\n",
        "    if row.empty:\n",
        "        print(f\"No question found with id {MCQAid}\")\n",
        "        return []\n",
        "\n",
        "    index = list(row.index)[0]\n",
        "    description = row['mcqa_lowered'].loc[index]\n",
        "\n",
        "    # Create a list of descriptions\n",
        "    desc_list = df['mcqa_lowered'].tolist()\n",
        "\n",
        "    # Create vector using Count Vectorizer\n",
        "    cnt_vec = CountVectorizer()\n",
        "    count_vector = cnt_vec.fit_transform(desc_list)\n",
        "\n",
        "    if similarity == \"cosine\":\n",
        "        sim_matrix = cosine_similarity(count_vector)\n",
        "        mcqas = find_similarity(sim_matrix, index, n)\n",
        "    elif similarity == \"manhattan\":\n",
        "        sim_matrix = manhattan_distances(count_vector)\n",
        "        mcqas = find_manhattan_distance(sim_matrix, index, n)\n",
        "    else:\n",
        "        sim_matrix = euclidean_distances(count_vector)\n",
        "        mcqas = find_euclidean_distances(sim_matrix, index, n)\n",
        "\n",
        "    return mcqas"
      ],
      "metadata": {
        "id": "0fKWZPN5WWCE"
      },
      "execution_count": 89,
      "outputs": []
    },
    {
      "cell_type": "code",
      "source": [
        "unique_df.info()"
      ],
      "metadata": {
        "colab": {
          "base_uri": "https://localhost:8080/"
        },
        "id": "FL6joanyX36Z",
        "outputId": "e5010ccb-394d-4f1c-995c-cb1adeb2ce5d"
      },
      "execution_count": 90,
      "outputs": [
        {
          "output_type": "stream",
          "name": "stdout",
          "text": [
            "<class 'pandas.core.frame.DataFrame'>\n",
            "RangeIndex: 5468 entries, 0 to 5467\n",
            "Data columns (total 12 columns):\n",
            " #   Column          Non-Null Count  Dtype \n",
            "---  ------          --------------  ----- \n",
            " 0   question        5468 non-null   object\n",
            " 1   opa             5468 non-null   object\n",
            " 2   opb             5468 non-null   object\n",
            " 3   opc             5468 non-null   object\n",
            " 4   opd             5468 non-null   object\n",
            " 5   subject_name    5468 non-null   object\n",
            " 6   topic_name      0 non-null      object\n",
            " 7   id              5468 non-null   object\n",
            " 8   choice_type     5468 non-null   object\n",
            " 9   MCQAid          5468 non-null   int64 \n",
            " 10  StringCombined  5468 non-null   object\n",
            " 11  mcqa_lowered    5468 non-null   object\n",
            "dtypes: int64(1), object(11)\n",
            "memory usage: 512.8+ KB\n"
          ]
        }
      ]
    },
    {
      "cell_type": "code",
      "source": [
        "MCQAid = 10\n",
        "# Cosine Similarity\n",
        "get_recommendation_cv(MCQAid, unique_df, similarity = \"cosine\", n=10)"
      ],
      "metadata": {
        "colab": {
          "base_uri": "https://localhost:8080/"
        },
        "id": "rk4DLlNqXMwL",
        "outputId": "e33b25e6-149d-48d3-c762-6ca0934af832"
      },
      "execution_count": 93,
      "outputs": [
        {
          "output_type": "execute_result",
          "data": {
            "text/plain": [
              "[{'value': 'Which of the following is derived from the neural tube except?',\n",
              "  'score': 0.4,\n",
              "  'subject_name': 'Anatomy'},\n",
              " {'value': 'All are true about skin except:',\n",
              "  'score': 0.4,\n",
              "  'subject_name': 'Skin'},\n",
              " {'value': 'All are true regarding mitochondrial DNA, EXCEPT ?',\n",
              "  'score': 0.35,\n",
              "  'subject_name': 'Biochemistry'},\n",
              " {'value': 'All are androgens except ?',\n",
              "  'score': 0.32,\n",
              "  'subject_name': 'Physiology'},\n",
              " {'value': 'All are alpha-blocker except?',\n",
              "  'score': 0.32,\n",
              "  'subject_name': 'Pharmacology'},\n",
              " {'value': 'All are pre-malignant conditions except -',\n",
              "  'score': 0.3,\n",
              "  'subject_name': 'Pathology'},\n",
              " {'value': 'All are cholinergic actions except?',\n",
              "  'score': 0.3,\n",
              "  'subject_name': 'Pharmacology'},\n",
              " {'value': 'Ionic receptors are all except ?',\n",
              "  'score': 0.3,\n",
              "  'subject_name': 'Physiology'},\n",
              " {'value': 'All are occupational cancers except ?',\n",
              "  'score': 0.3,\n",
              "  'subject_name': 'Social & Preventive Medicine'},\n",
              " {'value': 'Drugs used in ALL in child are all except -',\n",
              "  'score': 0.29,\n",
              "  'subject_name': 'Pediatrics'}]"
            ]
          },
          "metadata": {},
          "execution_count": 93
        }
      ]
    },
    {
      "cell_type": "code",
      "source": [
        "get_recommendation_cv(MCQAid, unique_df, similarity = \"manhattan\", n=10)"
      ],
      "metadata": {
        "colab": {
          "base_uri": "https://localhost:8080/"
        },
        "id": "UjvCZg-DYqAs",
        "outputId": "9f097abd-020a-4e4e-b517-9ab734fa597d"
      },
      "execution_count": 94,
      "outputs": [
        {
          "output_type": "execute_result",
          "data": {
            "text/plain": [
              "[{'value': 'Post-ganglionic parasympathetic fibers are -',\n",
              "  'score': 13.0,\n",
              "  'subject_name': 'Physiology'},\n",
              " {'value': 'All are androgens except ?',\n",
              "  'score': 13.0,\n",
              "  'subject_name': 'Physiology'},\n",
              " {'value': 'B+ Blood group can receive blood from all except',\n",
              "  'score': 13.0,\n",
              "  'subject_name': 'Physiology'},\n",
              " {'value': 'All are alpha-blocker except?',\n",
              "  'score': 13.0,\n",
              "  'subject_name': 'Pharmacology'},\n",
              " {'value': 'All are pre-malignant conditions except -',\n",
              "  'score': 14.0,\n",
              "  'subject_name': 'Pathology'},\n",
              " {'value': 'All are cholinergic actions except?',\n",
              "  'score': 14.0,\n",
              "  'subject_name': 'Pharmacology'},\n",
              " {'value': 'Ionic receptors are all except ?',\n",
              "  'score': 14.0,\n",
              "  'subject_name': 'Physiology'},\n",
              " {'value': 'All are occupational cancers except ?',\n",
              "  'score': 14.0,\n",
              "  'subject_name': 'Social & Preventive Medicine'},\n",
              " {'value': 'Pulses are deficient in ?',\n",
              "  'score': 15.0,\n",
              "  'subject_name': 'Social & Preventive Medicine'},\n",
              " {'value': 'Gerstmanns syndrome all except',\n",
              "  'score': 15.0,\n",
              "  'subject_name': 'Medicine'}]"
            ]
          },
          "metadata": {},
          "execution_count": 94
        }
      ]
    },
    {
      "cell_type": "code",
      "source": [
        "get_recommendation_cv(MCQAid, unique_df, similarity = \"euclidean\", n=10)"
      ],
      "metadata": {
        "colab": {
          "base_uri": "https://localhost:8080/"
        },
        "id": "T9Bwfgg4Yk3a",
        "outputId": "45a775de-aa23-42bc-dd09-5431e17b3c3f"
      },
      "execution_count": 95,
      "outputs": [
        {
          "output_type": "execute_result",
          "data": {
            "text/plain": [
              "[{'value': 'Post-ganglionic parasympathetic fibers are -',\n",
              "  'score': 3.61,\n",
              "  'subject_name': 'Physiology'},\n",
              " {'value': 'All are androgens except ?',\n",
              "  'score': 3.61,\n",
              "  'subject_name': 'Physiology'},\n",
              " {'value': 'All are alpha-blocker except?',\n",
              "  'score': 3.61,\n",
              "  'subject_name': 'Pharmacology'},\n",
              " {'value': 'All are pre-malignant conditions except -',\n",
              "  'score': 3.74,\n",
              "  'subject_name': 'Pathology'},\n",
              " {'value': 'All are cholinergic actions except?',\n",
              "  'score': 3.74,\n",
              "  'subject_name': 'Pharmacology'},\n",
              " {'value': 'Ionic receptors are all except ?',\n",
              "  'score': 3.74,\n",
              "  'subject_name': 'Physiology'},\n",
              " {'value': 'All are occupational cancers except ?',\n",
              "  'score': 3.74,\n",
              "  'subject_name': 'Social & Preventive Medicine'},\n",
              " {'value': 'Pulses are deficient in ?',\n",
              "  'score': 3.87,\n",
              "  'subject_name': 'Social & Preventive Medicine'},\n",
              " {'value': 'Gerstmanns syndrome all except',\n",
              "  'score': 3.87,\n",
              "  'subject_name': 'Medicine'},\n",
              " {'value': 'Beta-alanine is derived from ?',\n",
              "  'score': 3.87,\n",
              "  'subject_name': 'Biochemistry'}]"
            ]
          },
          "metadata": {},
          "execution_count": 95
        }
      ]
    },
    {
      "cell_type": "markdown",
      "source": [
        "# **Build a Model using TF-IDF features**"
      ],
      "metadata": {
        "id": "cwstrYUyi4Xx"
      }
    },
    {
      "cell_type": "code",
      "source": [
        "# Function to get recommendations using Count Vectorizer\n",
        "def get_recommendation_tfidf(MCQAid, df, similarity, n=10):\n",
        "    row = df.loc[df['MCQAid'] == MCQAid]\n",
        "    if row.empty:\n",
        "        print(f\"No question found with id {MCQAid}\")\n",
        "        return []\n",
        "\n",
        "    index = list(row.index)[0]\n",
        "    description = row['mcqa_lowered'].loc[index]\n",
        "\n",
        "    # Create a list of descriptions\n",
        "    desc_list = df['mcqa_lowered'].tolist()\n",
        "\n",
        "    # Create vector using Tfidf\n",
        "    tfidf_matrix = tfidf_vec.fit_transform(desc_list)\n",
        "\n",
        "    if similarity == \"cosine\":\n",
        "        sim_matrix = cosine_similarity(tfidf_matrix)\n",
        "        mcqas = find_similarity(sim_matrix, index, n)\n",
        "    elif similarity == \"manhattan\":\n",
        "        sim_matrix = manhattan_distances(tfidf_matrix)\n",
        "        mcqas = find_manhattan_distance(sim_matrix, index, n)\n",
        "    else:\n",
        "        sim_matrix = euclidean_distances(tfidf_matrix)\n",
        "        mcqas = find_euclidean_distances(sim_matrix, index, n)\n",
        "\n",
        "    return mcqas"
      ],
      "metadata": {
        "id": "-dTJMQmTZN0e"
      },
      "execution_count": 96,
      "outputs": []
    },
    {
      "cell_type": "code",
      "source": [
        "MCQAid = 10\n",
        "# Cosine Similarity\n",
        "get_recommendation_tfidf(MCQAid, unique_df, similarity = \"cosine\", n=10)"
      ],
      "metadata": {
        "colab": {
          "base_uri": "https://localhost:8080/"
        },
        "id": "Y9jCfVKtjuC1",
        "outputId": "8e4cb27f-6811-4874-9446-771b263b4566"
      },
      "execution_count": 97,
      "outputs": [
        {
          "output_type": "execute_result",
          "data": {
            "text/plain": [
              "[{'value': 'All are true about skin except:',\n",
              "  'score': 0.16,\n",
              "  'subject_name': 'Skin'},\n",
              " {'value': 'Which of the following is derived from the neural tube except?',\n",
              "  'score': 0.11,\n",
              "  'subject_name': 'Anatomy'},\n",
              " {'value': 'True about Keratinocyte is ?',\n",
              "  'score': 0.05,\n",
              "  'subject_name': 'Skin'},\n",
              " {'value': 'Low astigmatism in dim light is due ?',\n",
              "  'score': 0.05,\n",
              "  'subject_name': 'Ophthalmology'},\n",
              " {'value': 'False about phacolytic glaucoma ?',\n",
              "  'score': 0.05,\n",
              "  'subject_name': 'Ophthalmology'},\n",
              " {'value': 'Silk retina is seen in ?',\n",
              "  'score': 0.05,\n",
              "  'subject_name': 'Ophthalmology'},\n",
              " {'value': 'Maximum oral structures are having their origin from',\n",
              "  'score': 0.04,\n",
              "  'subject_name': 'Anatomy'},\n",
              " {'value': 'Development of peritoneal cavity is from ?',\n",
              "  'score': 0.04,\n",
              "  'subject_name': 'Anatomy'},\n",
              " {'value': 'Which of the following is not a pa of uveal',\n",
              "  'score': 0.04,\n",
              "  'subject_name': 'Ophthalmology'},\n",
              " {'value': 'More than 90% of growth of brain or brain vault has achieved by:',\n",
              "  'score': 0.04,\n",
              "  'subject_name': 'Dental'}]"
            ]
          },
          "metadata": {},
          "execution_count": 97
        }
      ]
    },
    {
      "cell_type": "code",
      "source": [
        "# Manhattan Similarity\n",
        "get_recommendation_tfidf(MCQAid, unique_df, similarity = \"manhattan\", n=10)"
      ],
      "metadata": {
        "colab": {
          "base_uri": "https://localhost:8080/"
        },
        "id": "h9tt-2I0j8Mh",
        "outputId": "1f1a4d7e-90b3-4b90-995c-24f093672a4f"
      },
      "execution_count": 98,
      "outputs": [
        {
          "output_type": "execute_result",
          "data": {
            "text/plain": [
              "[{'value': 'Lipoproteins are of how many types?',\n",
              "  'score': 5.93,\n",
              "  'subject_name': 'Biochemistry'},\n",
              " {'value': 'Number of freni in the mandible:',\n",
              "  'score': 6.63,\n",
              "  'subject_name': 'Dental'},\n",
              " {'value': 'Number of freni in the maxilla:',\n",
              "  'score': 6.63,\n",
              "  'subject_name': 'Dental'},\n",
              " {'value': 'Post-ganglionic parasympathetic fibers are -',\n",
              "  'score': 6.64,\n",
              "  'subject_name': 'Physiology'},\n",
              " {'value': 'What is the degree of freedom in a table of 2 x 2',\n",
              "  'score': 6.64,\n",
              "  'subject_name': 'Dental'},\n",
              " {'value': 'MAC of desflurane is ?',\n",
              "  'score': 6.65,\n",
              "  'subject_name': 'Anaesthesia'},\n",
              " {'value': 'IL- 1 activated by-', 'score': 6.7, 'subject_name': 'Pathology'},\n",
              " {'value': 'In ETC NADH generates -',\n",
              "  'score': 6.75,\n",
              "  'subject_name': 'Biochemistry'},\n",
              " {'value': 'Spirochetes becomes visible from which of the following zone:',\n",
              "  'score': 6.98,\n",
              "  'subject_name': 'Dental'},\n",
              " {'value': 'B+ Blood group can receive blood from all except',\n",
              "  'score': 7.01,\n",
              "  'subject_name': 'Physiology'}]"
            ]
          },
          "metadata": {},
          "execution_count": 98
        }
      ]
    },
    {
      "cell_type": "code",
      "source": [
        "# Euclidean Similarity\n",
        "get_recommendation_tfidf(MCQAid, unique_df, similarity = \"euclidean\", n=10)"
      ],
      "metadata": {
        "colab": {
          "base_uri": "https://localhost:8080/"
        },
        "id": "GhQL_wTikFdt",
        "outputId": "dfecdf1b-81b7-4ffe-a74a-474c77c6e282"
      },
      "execution_count": 99,
      "outputs": [
        {
          "output_type": "execute_result",
          "data": {
            "text/plain": [
              "[{'value': 'All are true about skin except:',\n",
              "  'score': 1.3,\n",
              "  'subject_name': 'Skin'},\n",
              " {'value': 'Which of the following is derived from the neural tube except?',\n",
              "  'score': 1.33,\n",
              "  'subject_name': 'Anatomy'},\n",
              " {'value': 'True about Keratinocyte is ?',\n",
              "  'score': 1.38,\n",
              "  'subject_name': 'Skin'},\n",
              " {'value': 'Low astigmatism in dim light is due ?',\n",
              "  'score': 1.38,\n",
              "  'subject_name': 'Ophthalmology'},\n",
              " {'value': 'False about phacolytic glaucoma ?',\n",
              "  'score': 1.38,\n",
              "  'subject_name': 'Ophthalmology'},\n",
              " {'value': 'Silk retina is seen in ?',\n",
              "  'score': 1.38,\n",
              "  'subject_name': 'Ophthalmology'},\n",
              " {'value': 'Maximum oral structures are having their origin from',\n",
              "  'score': 1.38,\n",
              "  'subject_name': 'Anatomy'},\n",
              " {'value': 'Development of peritoneal cavity is from ?',\n",
              "  'score': 1.38,\n",
              "  'subject_name': 'Anatomy'},\n",
              " {'value': 'Which of the following is not a pa of uveal',\n",
              "  'score': 1.38,\n",
              "  'subject_name': 'Ophthalmology'},\n",
              " {'value': 'More than 90% of growth of brain or brain vault has achieved by:',\n",
              "  'score': 1.38,\n",
              "  'subject_name': 'Dental'}]"
            ]
          },
          "metadata": {},
          "execution_count": 99
        }
      ]
    },
    {
      "cell_type": "markdown",
      "source": [
        "# **Test Question**"
      ],
      "metadata": {
        "id": "TqF6QA1LkY49"
      }
    },
    {
      "cell_type": "code",
      "source": [
        "df.loc[df['MCQAid'] == 10]"
      ],
      "metadata": {
        "colab": {
          "base_uri": "https://localhost:8080/",
          "height": 170
        },
        "id": "b-z_BicBkTwK",
        "outputId": "2dcafa6a-eb28-4050-a559-571486e80168"
      },
      "execution_count": 100,
      "outputs": [
        {
          "output_type": "execute_result",
          "data": {
            "text/plain": [
              "                                 question   opa              opb    opc  \\\n",
              "9  All are derived from ectoderm except ?  Lens  Eustachian tube  Brain   \n",
              "\n",
              "      opd subject_name topic_name                                    id  \\\n",
              "9  Retina      Anatomy       None  0a7cddf8-a8b8-4778-aa58-4b01c3da1c12   \n",
              "\n",
              "  choice_type  MCQAid                                     StringCombined  \n",
              "9       multi      10  All are derived from ectoderm except ? Lens Eu...  "
            ],
            "text/html": [
              "\n",
              "  <div id=\"df-0cec7269-280b-410a-9591-7c87ca3cd4b0\" class=\"colab-df-container\">\n",
              "    <div>\n",
              "<style scoped>\n",
              "    .dataframe tbody tr th:only-of-type {\n",
              "        vertical-align: middle;\n",
              "    }\n",
              "\n",
              "    .dataframe tbody tr th {\n",
              "        vertical-align: top;\n",
              "    }\n",
              "\n",
              "    .dataframe thead th {\n",
              "        text-align: right;\n",
              "    }\n",
              "</style>\n",
              "<table border=\"1\" class=\"dataframe\">\n",
              "  <thead>\n",
              "    <tr style=\"text-align: right;\">\n",
              "      <th></th>\n",
              "      <th>question</th>\n",
              "      <th>opa</th>\n",
              "      <th>opb</th>\n",
              "      <th>opc</th>\n",
              "      <th>opd</th>\n",
              "      <th>subject_name</th>\n",
              "      <th>topic_name</th>\n",
              "      <th>id</th>\n",
              "      <th>choice_type</th>\n",
              "      <th>MCQAid</th>\n",
              "      <th>StringCombined</th>\n",
              "    </tr>\n",
              "  </thead>\n",
              "  <tbody>\n",
              "    <tr>\n",
              "      <th>9</th>\n",
              "      <td>All are derived from ectoderm except ?</td>\n",
              "      <td>Lens</td>\n",
              "      <td>Eustachian tube</td>\n",
              "      <td>Brain</td>\n",
              "      <td>Retina</td>\n",
              "      <td>Anatomy</td>\n",
              "      <td>None</td>\n",
              "      <td>0a7cddf8-a8b8-4778-aa58-4b01c3da1c12</td>\n",
              "      <td>multi</td>\n",
              "      <td>10</td>\n",
              "      <td>All are derived from ectoderm except ? Lens Eu...</td>\n",
              "    </tr>\n",
              "  </tbody>\n",
              "</table>\n",
              "</div>\n",
              "    <div class=\"colab-df-buttons\">\n",
              "\n",
              "  <div class=\"colab-df-container\">\n",
              "    <button class=\"colab-df-convert\" onclick=\"convertToInteractive('df-0cec7269-280b-410a-9591-7c87ca3cd4b0')\"\n",
              "            title=\"Convert this dataframe to an interactive table.\"\n",
              "            style=\"display:none;\">\n",
              "\n",
              "  <svg xmlns=\"http://www.w3.org/2000/svg\" height=\"24px\" viewBox=\"0 -960 960 960\">\n",
              "    <path d=\"M120-120v-720h720v720H120Zm60-500h600v-160H180v160Zm220 220h160v-160H400v160Zm0 220h160v-160H400v160ZM180-400h160v-160H180v160Zm440 0h160v-160H620v160ZM180-180h160v-160H180v160Zm440 0h160v-160H620v160Z\"/>\n",
              "  </svg>\n",
              "    </button>\n",
              "\n",
              "  <style>\n",
              "    .colab-df-container {\n",
              "      display:flex;\n",
              "      gap: 12px;\n",
              "    }\n",
              "\n",
              "    .colab-df-convert {\n",
              "      background-color: #E8F0FE;\n",
              "      border: none;\n",
              "      border-radius: 50%;\n",
              "      cursor: pointer;\n",
              "      display: none;\n",
              "      fill: #1967D2;\n",
              "      height: 32px;\n",
              "      padding: 0 0 0 0;\n",
              "      width: 32px;\n",
              "    }\n",
              "\n",
              "    .colab-df-convert:hover {\n",
              "      background-color: #E2EBFA;\n",
              "      box-shadow: 0px 1px 2px rgba(60, 64, 67, 0.3), 0px 1px 3px 1px rgba(60, 64, 67, 0.15);\n",
              "      fill: #174EA6;\n",
              "    }\n",
              "\n",
              "    .colab-df-buttons div {\n",
              "      margin-bottom: 4px;\n",
              "    }\n",
              "\n",
              "    [theme=dark] .colab-df-convert {\n",
              "      background-color: #3B4455;\n",
              "      fill: #D2E3FC;\n",
              "    }\n",
              "\n",
              "    [theme=dark] .colab-df-convert:hover {\n",
              "      background-color: #434B5C;\n",
              "      box-shadow: 0px 1px 3px 1px rgba(0, 0, 0, 0.15);\n",
              "      filter: drop-shadow(0px 1px 2px rgba(0, 0, 0, 0.3));\n",
              "      fill: #FFFFFF;\n",
              "    }\n",
              "  </style>\n",
              "\n",
              "    <script>\n",
              "      const buttonEl =\n",
              "        document.querySelector('#df-0cec7269-280b-410a-9591-7c87ca3cd4b0 button.colab-df-convert');\n",
              "      buttonEl.style.display =\n",
              "        google.colab.kernel.accessAllowed ? 'block' : 'none';\n",
              "\n",
              "      async function convertToInteractive(key) {\n",
              "        const element = document.querySelector('#df-0cec7269-280b-410a-9591-7c87ca3cd4b0');\n",
              "        const dataTable =\n",
              "          await google.colab.kernel.invokeFunction('convertToInteractive',\n",
              "                                                    [key], {});\n",
              "        if (!dataTable) return;\n",
              "\n",
              "        const docLinkHtml = 'Like what you see? Visit the ' +\n",
              "          '<a target=\"_blank\" href=https://colab.research.google.com/notebooks/data_table.ipynb>data table notebook</a>'\n",
              "          + ' to learn more about interactive tables.';\n",
              "        element.innerHTML = '';\n",
              "        dataTable['output_type'] = 'display_data';\n",
              "        await google.colab.output.renderOutput(dataTable, element);\n",
              "        const docLink = document.createElement('div');\n",
              "        docLink.innerHTML = docLinkHtml;\n",
              "        element.appendChild(docLink);\n",
              "      }\n",
              "    </script>\n",
              "  </div>\n",
              "\n",
              "\n",
              "    </div>\n",
              "  </div>\n"
            ],
            "application/vnd.google.colaboratory.intrinsic+json": {
              "type": "dataframe",
              "repr_error": "0"
            }
          },
          "metadata": {},
          "execution_count": 100
        }
      ]
    },
    {
      "cell_type": "markdown",
      "source": [
        "# **Word2vec**"
      ],
      "metadata": {
        "id": "xNyWRyJqkcO6"
      }
    },
    {
      "cell_type": "code",
      "source": [
        "import gdown\n",
        "\n",
        "word2vec_url = 'https://drive.google.com/uc?id=0B7XkCwpI5KDYNlNUTTlSS21pQmM'  # Replace 'YOUR_ACTUAL_ID' with the actual ID\n",
        "word2vec_output = 'word2vec.bin.gz'\n",
        "gdown.download(word2vec_url, word2vec_output, quiet=False)"
      ],
      "metadata": {
        "colab": {
          "base_uri": "https://localhost:8080/",
          "height": 142
        },
        "id": "FN0vdQo0kb4Z",
        "outputId": "a6c778b6-7406-4a62-cbb7-b513e0994ff0"
      },
      "execution_count": 101,
      "outputs": [
        {
          "output_type": "stream",
          "name": "stderr",
          "text": [
            "Downloading...\n",
            "From (original): https://drive.google.com/uc?id=0B7XkCwpI5KDYNlNUTTlSS21pQmM\n",
            "From (redirected): https://drive.google.com/uc?id=0B7XkCwpI5KDYNlNUTTlSS21pQmM&confirm=t&uuid=966dcaf2-47ad-4e78-a423-0f1467a39264\n",
            "To: /content/word2vec.bin.gz\n",
            "100%|██████████| 1.65G/1.65G [00:19<00:00, 84.2MB/s]\n"
          ]
        },
        {
          "output_type": "execute_result",
          "data": {
            "text/plain": [
              "'word2vec.bin.gz'"
            ],
            "application/vnd.google.colaboratory.intrinsic+json": {
              "type": "string"
            }
          },
          "metadata": {},
          "execution_count": 101
        }
      ]
    },
    {
      "cell_type": "code",
      "source": [
        "#importing Word2Vec\n",
        "word2vecModel = models.KeyedVectors.load_word2vec_format('word2vec.bin.gz', binary=True)"
      ],
      "metadata": {
        "id": "bSiTSSyTkNvL"
      },
      "execution_count": 102,
      "outputs": []
    },
    {
      "cell_type": "code",
      "source": [
        "#Comparing similarity to get the top matches using Word2vec pretrained model\n",
        "def get_recommendation_word2vec(MCQAid, df, similarity, n=10):\n",
        "\n",
        "    row = df.loc[df['MCQAid'] == MCQAid]\n",
        "    if row.empty:\n",
        "        print(f\"No question found with id {MCQAid}\")\n",
        "        return []\n",
        "\n",
        "    input_index = list(row.index)[0]\n",
        "    description = row['mcqa_lowered'].loc[input_index]\n",
        "\n",
        "    #create vectors for each desc using word2vec\n",
        "    vector_matrix = np.empty((len(desc_list), 300))\n",
        "    for index, each_sentence in enumerate(desc_list):\n",
        "        sentence_vector = np.zeros((300,))\n",
        "        count  = 0\n",
        "        for each_word in each_sentence.split():\n",
        "            try:\n",
        "                sentence_vector += word2vecModel[each_word]\n",
        "                count += 1\n",
        "            except:\n",
        "                continue\n",
        "\n",
        "        vector_matrix[index] = sentence_vector\n",
        "\n",
        "    if similarity == \"cosine\":\n",
        "        sim_matrix = cosine_similarity(vector_matrix)\n",
        "        mcqas = find_similarity(sim_matrix , input_index)\n",
        "\n",
        "    elif similarity == \"manhattan\":\n",
        "        sim_matrix = manhattan_distances(vector_matrix)\n",
        "        mcqas = find_manhattan_distance(sim_matrix , input_index)\n",
        "\n",
        "    else:\n",
        "        sim_matrix = euclidean_distances(vector_matrix)\n",
        "        mcqas = find_euclidean_distances(sim_matrix , input_index)\n",
        "\n",
        "    return mcqas"
      ],
      "metadata": {
        "id": "tD0rAxRvlTrJ"
      },
      "execution_count": 108,
      "outputs": []
    },
    {
      "cell_type": "code",
      "source": [
        "# Cosine Similarity\n",
        "get_recommendation_word2vec(MCQAid, unique_df, similarity = \"cosine\", n=10)"
      ],
      "metadata": {
        "colab": {
          "base_uri": "https://localhost:8080/"
        },
        "id": "8Pi-PNOOmHP2",
        "outputId": "8a472212-4189-4f0f-e306-b92518d1987a"
      },
      "execution_count": 109,
      "outputs": [
        {
          "output_type": "execute_result",
          "data": {
            "text/plain": [
              "[{'value': 'Which of the following is derived from the neural tube except?',\n",
              "  'score': 0.87,\n",
              "  'subject_name': 'Anatomy'},\n",
              " {'value': 'All are true about skin except:',\n",
              "  'score': 0.8,\n",
              "  'subject_name': 'Skin'},\n",
              " {'value': 'Pupillary reflex pathway- All of the following are a pa except ?',\n",
              "  'score': 0.8,\n",
              "  'subject_name': 'Ophthalmology'},\n",
              " {'value': 'Which of the following is not a pa of uveal',\n",
              "  'score': 0.79,\n",
              "  'subject_name': 'Ophthalmology'},\n",
              " {'value': 'Stereocilia are present in?',\n",
              "  'score': 0.77,\n",
              "  'subject_name': 'Physiology'},\n",
              " {'value': 'The zonules suspending the lens are attached to the?',\n",
              "  'score': 0.76,\n",
              "  'subject_name': 'Ophthalmology'},\n",
              " {'value': 'All are true about trigeminal nerve except',\n",
              "  'score': 0.75,\n",
              "  'subject_name': 'Anatomy'},\n",
              " {'value': 'All are true about trigeminal nerve except?',\n",
              "  'score': 0.75,\n",
              "  'subject_name': 'Anatomy'},\n",
              " {'value': 'Abetalipoproteinemia affects ?',\n",
              "  'score': 0.75,\n",
              "  'subject_name': 'Biochemistry'},\n",
              " {'value': \"Cell bodies of Muller's Cells are present in which layer of retina?\",\n",
              "  'score': 0.74,\n",
              "  'subject_name': 'Ophthalmology'}]"
            ]
          },
          "metadata": {},
          "execution_count": 109
        }
      ]
    },
    {
      "cell_type": "code",
      "source": [
        "# Manhattan Similarity\n",
        "get_recommendation_word2vec(MCQAid, unique_df, similarity = \"manhattan\", n=10)"
      ],
      "metadata": {
        "colab": {
          "base_uri": "https://localhost:8080/"
        },
        "id": "44FpOguKmQmj",
        "outputId": "fa33e038-5af9-4f9f-89d3-6fe2c0adf0ce"
      },
      "execution_count": 110,
      "outputs": [
        {
          "output_type": "execute_result",
          "data": {
            "text/plain": [
              "[{'value': 'Which of the following is not a pa of uveal',\n",
              "  'score': 125.32,\n",
              "  'subject_name': 'Ophthalmology'},\n",
              " {'value': 'Carbonic anhydrase activity found in all except?',\n",
              "  'score': 130.89,\n",
              "  'subject_name': 'Physiology'},\n",
              " {'value': 'Stereocilia are present in?',\n",
              "  'score': 136.94,\n",
              "  'subject_name': 'Physiology'},\n",
              " {'value': 'Stereocilia are found in?',\n",
              "  'score': 137.2,\n",
              "  'subject_name': 'Physiology'},\n",
              " {'value': 'Kidney parenchyma is derived from -',\n",
              "  'score': 137.98,\n",
              "  'subject_name': 'Anatomy'},\n",
              " {'value': 'Most lateral nucleus of cerebellum is ?',\n",
              "  'score': 140.67,\n",
              "  'subject_name': 'Anatomy'},\n",
              " {'value': 'Lens attached to ciliary body ?',\n",
              "  'score': 140.67,\n",
              "  'subject_name': 'Ophthalmology'},\n",
              " {'value': 'All of the following pass through the Sinus of morgagni except -',\n",
              "  'score': 142.7,\n",
              "  'subject_name': 'Anatomy'},\n",
              " {'value': 'Ionic receptors are all except ?',\n",
              "  'score': 143.06,\n",
              "  'subject_name': 'Physiology'},\n",
              " {'value': 'Pneumatic bone is all except?',\n",
              "  'score': 144.06,\n",
              "  'subject_name': 'Anatomy'}]"
            ]
          },
          "metadata": {},
          "execution_count": 110
        }
      ]
    },
    {
      "cell_type": "code",
      "source": [
        "# Euclidean Similarity\n",
        "get_recommendation_word2vec(MCQAid, unique_df, similarity = \"euclidean\", n=10)"
      ],
      "metadata": {
        "colab": {
          "base_uri": "https://localhost:8080/"
        },
        "id": "8Ybs5ZFMmbmS",
        "outputId": "f21d0998-a021-4840-9a97-5992ed297f9e"
      },
      "execution_count": 111,
      "outputs": [
        {
          "output_type": "execute_result",
          "data": {
            "text/plain": [
              "[{'value': 'Which of the following is not a pa of uveal',\n",
              "  'score': 9.11,\n",
              "  'subject_name': 'Ophthalmology'},\n",
              " {'value': 'Carbonic anhydrase activity found in all except?',\n",
              "  'score': 9.56,\n",
              "  'subject_name': 'Physiology'},\n",
              " {'value': 'Stereocilia are found in?',\n",
              "  'score': 9.8,\n",
              "  'subject_name': 'Physiology'},\n",
              " {'value': 'Stereocilia are present in?',\n",
              "  'score': 9.97,\n",
              "  'subject_name': 'Physiology'},\n",
              " {'value': 'Most lateral nucleus of cerebellum is ?',\n",
              "  'score': 10.1,\n",
              "  'subject_name': 'Anatomy'},\n",
              " {'value': 'Ionic receptors are all except ?',\n",
              "  'score': 10.14,\n",
              "  'subject_name': 'Physiology'},\n",
              " {'value': 'Kidney parenchyma is derived from -',\n",
              "  'score': 10.21,\n",
              "  'subject_name': 'Anatomy'},\n",
              " {'value': 'Lens attached to ciliary body ?',\n",
              "  'score': 10.25,\n",
              "  'subject_name': 'Ophthalmology'},\n",
              " {'value': 'All of the following pass through the Sinus of morgagni except -',\n",
              "  'score': 10.37,\n",
              "  'subject_name': 'Anatomy'},\n",
              " {'value': 'Somatic efferent of which arise from medulla?',\n",
              "  'score': 10.38,\n",
              "  'subject_name': 'Physiology'}]"
            ]
          },
          "metadata": {},
          "execution_count": 111
        }
      ]
    },
    {
      "cell_type": "markdown",
      "source": [
        "# **Build Model using GloVe Features**"
      ],
      "metadata": {
        "id": "530tA0mvmtDj"
      }
    },
    {
      "cell_type": "code",
      "source": [
        "!wget https://nlp.stanford.edu/data/glove.6B.zip\n",
        "!unzip glove.6B.zip"
      ],
      "metadata": {
        "colab": {
          "base_uri": "https://localhost:8080/"
        },
        "id": "-YaSVCIdmoHC",
        "outputId": "c4b785a1-8c6f-4566-a97e-d9079ad4ce11"
      },
      "execution_count": 107,
      "outputs": [
        {
          "output_type": "stream",
          "name": "stdout",
          "text": [
            "--2024-06-04 18:55:25--  https://nlp.stanford.edu/data/glove.6B.zip\n",
            "Resolving nlp.stanford.edu (nlp.stanford.edu)... 171.64.67.140\n",
            "Connecting to nlp.stanford.edu (nlp.stanford.edu)|171.64.67.140|:443... connected.\n",
            "HTTP request sent, awaiting response... 301 Moved Permanently\n",
            "Location: https://downloads.cs.stanford.edu/nlp/data/glove.6B.zip [following]\n",
            "--2024-06-04 18:55:25--  https://downloads.cs.stanford.edu/nlp/data/glove.6B.zip\n",
            "Resolving downloads.cs.stanford.edu (downloads.cs.stanford.edu)... 171.64.64.22\n",
            "Connecting to downloads.cs.stanford.edu (downloads.cs.stanford.edu)|171.64.64.22|:443... connected.\n",
            "HTTP request sent, awaiting response... 200 OK\n",
            "Length: 862182613 (822M) [application/zip]\n",
            "Saving to: ‘glove.6B.zip’\n",
            "\n",
            "glove.6B.zip        100%[===================>] 822.24M  5.02MB/s    in 2m 39s  \n",
            "\n",
            "2024-06-04 18:58:04 (5.18 MB/s) - ‘glove.6B.zip’ saved [862182613/862182613]\n",
            "\n",
            "Archive:  glove.6B.zip\n",
            "  inflating: glove.6B.50d.txt        \n",
            "  inflating: glove.6B.100d.txt       \n",
            "  inflating: glove.6B.200d.txt       \n",
            "  inflating: glove.6B.300d.txt       \n"
          ]
        }
      ]
    },
    {
      "cell_type": "code",
      "source": [
        "#Import Glove\n",
        "glove_df = pd.read_csv('glove.6B.300d.txt',sep=\" \",\n",
        "                       quoting=3, header=None, index_col=0)\n",
        "glove_model = {key:value.values for key, value in glove_df.T.items()}"
      ],
      "metadata": {
        "id": "l25HjCrBmy0W"
      },
      "execution_count": 112,
      "outputs": []
    },
    {
      "cell_type": "code",
      "source": [
        "# Comparing similarity to get the top matches using Glove pretrained model\n",
        "def get_recommendation_glove(MCQAid, df, similarity, n=10):\n",
        "\n",
        "    row = df.loc[df['MCQAid'] == MCQAid]\n",
        "    if row.empty:\n",
        "        print(f\"No question found with id {MCQAid}\")\n",
        "        return []\n",
        "\n",
        "    input_index = list(row.index)[0]\n",
        "    description = row['mcqa_lowered'].loc[input_index]\n",
        "\n",
        "    #using glove embeddings to create vectors\n",
        "    vector_matrix = np.empty((len(desc_list), 300))\n",
        "    for index, each_sentence in enumerate(desc_list):\n",
        "        sentence_vector = np.zeros((300,))\n",
        "        count  = 0\n",
        "        for each_word in each_sentence.split():\n",
        "            try:\n",
        "                sentence_vector += glove_model[each_word]\n",
        "                count += 1\n",
        "\n",
        "            except:\n",
        "                continue\n",
        "\n",
        "        vector_matrix[index] = sentence_vector\n",
        "\n",
        "\n",
        "    if similarity == \"cosine\":\n",
        "        sim_matrix = cosine_similarity(vector_matrix)\n",
        "        mcqas = find_similarity(sim_matrix , input_index)\n",
        "\n",
        "    elif similarity == \"manhattan\":\n",
        "        sim_matrix = manhattan_distances(vector_matrix)\n",
        "        mcqas = find_manhattan_distance(sim_matrix , input_index)\n",
        "\n",
        "    else:\n",
        "        sim_matrix = euclidean_distances(vector_matrix)\n",
        "        mcqas = find_euclidean_distances(sim_matrix , input_index)\n",
        "\n",
        "    return mcqas"
      ],
      "metadata": {
        "id": "ToI75MRZnGkz"
      },
      "execution_count": 113,
      "outputs": []
    },
    {
      "cell_type": "code",
      "source": [
        "# Cosine Similarity\n",
        "get_recommendation_glove(MCQAid, unique_df, similarity = \"cosine\", n=10)"
      ],
      "metadata": {
        "colab": {
          "base_uri": "https://localhost:8080/"
        },
        "id": "R4DNF7aloAWO",
        "outputId": "12ab6030-b9ea-4090-a03f-b93aa40a76c2"
      },
      "execution_count": 114,
      "outputs": [
        {
          "output_type": "execute_result",
          "data": {
            "text/plain": [
              "[{'value': 'Which of the following is derived from the neural tube except?',\n",
              "  'score': 0.83,\n",
              "  'subject_name': 'Anatomy'},\n",
              " {'value': 'All are true about skin except:',\n",
              "  'score': 0.73,\n",
              "  'subject_name': 'Skin'},\n",
              " {'value': \"Cell bodies of Muller's Cells are present in which layer of retina?\",\n",
              "  'score': 0.72,\n",
              "  'subject_name': 'Ophthalmology'},\n",
              " {'value': 'The zonules suspending the lens are attached to the?',\n",
              "  'score': 0.71,\n",
              "  'subject_name': 'Ophthalmology'},\n",
              " {'value': 'Stereocilia are present in?',\n",
              "  'score': 0.71,\n",
              "  'subject_name': 'Physiology'},\n",
              " {'value': 'The earliest feature of 3rd cranial nerve involvement in diabetes mellitus patient is -',\n",
              "  'score': 0.71,\n",
              "  'subject_name': 'Medicine'},\n",
              " {'value': 'Which of the following is the function of tensor tympani muscle?',\n",
              "  'score': 0.7,\n",
              "  'subject_name': 'ENT'},\n",
              " {'value': 'Which of the following does not have sympathetic noradrenergic fibers ?',\n",
              "  'score': 0.7,\n",
              "  'subject_name': 'Physiology'},\n",
              " {'value': 'Which of the following is not a contraindication of MRI',\n",
              "  'score': 0.7,\n",
              "  'subject_name': 'Radiology'},\n",
              " {'value': 'Resistance of mini screw to dislodgement comes from contact with?',\n",
              "  'score': 0.7,\n",
              "  'subject_name': 'Dental'}]"
            ]
          },
          "metadata": {},
          "execution_count": 114
        }
      ]
    },
    {
      "cell_type": "code",
      "source": [
        "# Cosine Similarity\n",
        "get_recommendation_glove(MCQAid, unique_df, similarity = \"euclidean\", n=10)"
      ],
      "metadata": {
        "colab": {
          "base_uri": "https://localhost:8080/"
        },
        "id": "ckpyilQooGXY",
        "outputId": "16394cb8-69bc-47a9-b17c-cce45c003579"
      },
      "execution_count": 115,
      "outputs": [
        {
          "output_type": "execute_result",
          "data": {
            "text/plain": [
              "[{'value': 'Oxyntic cells are present in -',\n",
              "  'score': 25.93,\n",
              "  'subject_name': 'Anatomy'},\n",
              " {'value': 'Stereocilia are present in?',\n",
              "  'score': 26.39,\n",
              "  'subject_name': 'Physiology'},\n",
              " {'value': 'What type of muscles are medial two lumbricals?',\n",
              "  'score': 27.29,\n",
              "  'subject_name': 'Anatomy'},\n",
              " {'value': 'Inner cell mass differentiates into ?',\n",
              "  'score': 27.47,\n",
              "  'subject_name': 'Gynaecology & Obstetrics'},\n",
              " {'value': 'Which of the following is derived from fibroblast cells ?',\n",
              "  'score': 27.49,\n",
              "  'subject_name': 'Pathology'},\n",
              " {'value': 'Kidney parenchyma is derived from -',\n",
              "  'score': 27.67,\n",
              "  'subject_name': 'Anatomy'},\n",
              " {'value': 'Transverse lie is caused by all except ?',\n",
              "  'score': 27.69,\n",
              "  'subject_name': 'Gynaecology & Obstetrics'},\n",
              " {'value': 'Sezary cells show which tlpe of nucleus -',\n",
              "  'score': 27.87,\n",
              "  'subject_name': 'Pathology'},\n",
              " {'value': 'Stereocilia are found in?',\n",
              "  'score': 27.96,\n",
              "  'subject_name': 'Physiology'},\n",
              " {'value': 'Feilization usually occurs in which pa of fallopian tube?',\n",
              "  'score': 28.18,\n",
              "  'subject_name': 'Gynaecology & Obstetrics'}]"
            ]
          },
          "metadata": {},
          "execution_count": 115
        }
      ]
    },
    {
      "cell_type": "markdown",
      "source": [
        "To validate and potentially improve your content-based recommendation model for MCQA (Multiple Choice Question Answering), you can follow a systematic approach that involves evaluating different components of the model and comparing their performance. Here's a blueprint of the steps you could take:\n",
        "\n",
        "**Data Preparation:**\n",
        "\n",
        "Ensure that you have a sufficiently large and diverse dataset of reference questions and potential recommended questions.\n",
        "Split the dataset into training, validation, and testing sets.\n",
        "Consider creating a ground truth dataset by having subject matter experts manually curate relevant recommendations for a subset of the reference questions.\n",
        "\n",
        "\n",
        "**Embedding Methods:**\n",
        "\n",
        "Evaluate the performance of different embedding methods (e.g., count vectorizer, GloVe, text2vec) on the validation set.\n",
        "Compare the recommendations generated by each embedding method against the ground truth (if available) or manually evaluate them.\n",
        "Analyze the strengths and weaknesses of each embedding method in capturing semantic similarity and relevance.\n",
        "\n",
        "\n",
        "**Similarity Measures:**\n",
        "\n",
        "For each embedding method, evaluate the performance of different similarity measures (e.g., Euclidean, Manhattan, Cosine) on the validation set.\n",
        "Compare the recommendations generated by each similarity measure against the ground truth or manual evaluation.\n",
        "Identify the most effective similarity measure(s) for each embedding method.\n",
        "\n",
        "\n",
        "**Hybrid Approaches:**\n",
        "\n",
        "Explore combining different embedding methods and similarity measures in a hybrid approach.\n",
        "Evaluate the performance of the hybrid approach on the validation set.\n",
        "Compare the hybrid approach against the individual methods and the ground truth or manual evaluation.\n",
        "\n",
        "\n",
        "**Hyperparameter Tuning:**\n",
        "\n",
        "Identify the hyperparameters of your recommendation model (e.g., embedding dimensions, similarity thresholds).\n",
        "Perform a grid search or random search to find the optimal hyperparameter values that maximize performance on the validation set.\n",
        "\n",
        "\n",
        "**Subject-specific Evaluation:**\n",
        "\n",
        "Evaluate the performance of your recommendation model separately for different subjects (e.g., Anatomy, Physiology, Pathology).\n",
        "Identify subjects where the model performs well and subjects where it struggles.\n",
        "Consider fine-tuning the model or exploring subject-specific approaches if necessary.\n",
        "\n",
        "\n",
        "**Final Evaluation:**\n",
        "\n",
        "Use the best-performing combination of embedding method, similarity measure, and hyperparameters to generate recommendations on the held-out testing set.\n",
        "Evaluate the recommendations using appropriate metrics (e.g., precision, recall, F1-score) against the ground truth or manual evaluation.\n",
        "Analyze the strengths and limitations of your final model, and identify areas for further improvement.\n",
        "\n",
        "\n",
        "**Deployment and Monitoring:**\n",
        "\n",
        "Deploy your validated recommendation model in a production environment.\n",
        "Implement a monitoring system to track the model's performance over time and collect feedback from users.\n",
        "Regularly update and retrain the model with new data to ensure it remains relevant and effective."
      ],
      "metadata": {
        "id": "fkNA3fxHrGKJ"
      }
    },
    {
      "cell_type": "code",
      "source": [],
      "metadata": {
        "id": "djFsHLAQoMjH"
      },
      "execution_count": null,
      "outputs": []
    }
  ]
}