{
  "nbformat": 4,
  "nbformat_minor": 0,
  "metadata": {
    "colab": {
      "provenance": [],
      "gpuType": "T4",
      "authorship_tag": "ABX9TyMeCFlAuHYTb7ylFvx70/PG",
      "include_colab_link": true
    },
    "kernelspec": {
      "name": "python3",
      "display_name": "Python 3"
    },
    "language_info": {
      "name": "python"
    },
    "accelerator": "GPU"
  },
  "cells": [
    {
      "cell_type": "markdown",
      "metadata": {
        "id": "view-in-github",
        "colab_type": "text"
      },
      "source": [
        "<a href=\"https://colab.research.google.com/github/ankesh86/RecommendationSystems/blob/main/Content_basedRecommendation.ipynb\" target=\"_parent\"><img src=\"https://colab.research.google.com/assets/colab-badge.svg\" alt=\"Open In Colab\"/></a>"
      ]
    },
    {
      "cell_type": "code",
      "execution_count": 1,
      "metadata": {
        "id": "j0e3-ckbtDNO"
      },
      "outputs": [],
      "source": [
        "import pandas as pd\n",
        "from sklearn.feature_extraction.text import CountVectorizer\n",
        "from sklearn.metrics.pairwise import cosine_similarity, manhattan_distances, euclidean_distances\n",
        "#from sklearn.feature_extraction import TfidfVectorizer\n",
        "from sklearn.feature_extraction.text import TfidfVectorizer\n",
        "\n",
        "import re\n",
        "from gensim import models\n",
        "import numpy as np\n",
        "import matplotlib.pyplot as plt\n",
        "import matplotlib.style\n",
        "%matplotlib inline\n",
        "from gensim.models import FastText as ft\n",
        "from IPython.display import Image\n",
        "import os"
      ]
    },
    {
      "cell_type": "code",
      "source": [
        "import gdown\n",
        "\n",
        "word2vec_url = 'https://drive.google.com/uc?id=0B7XkCwpI5KDYNlNUTTlSS21pQmM'  # Replace 'YOUR_ACTUAL_ID' with the actual ID\n",
        "word2vec_output = 'word2vec.bin.gz'\n",
        "gdown.download(word2vec_url, word2vec_output, quiet=False)\n",
        "\n",
        "!gunzip word2vec_output\n"
      ],
      "metadata": {
        "colab": {
          "base_uri": "https://localhost:8080/"
        },
        "id": "N1BwB4C2ty1j",
        "outputId": "521ec58d-6735-4fc2-84e7-b69d80015526"
      },
      "execution_count": 2,
      "outputs": [
        {
          "output_type": "stream",
          "name": "stderr",
          "text": [
            "Downloading...\n",
            "From (original): https://drive.google.com/uc?id=0B7XkCwpI5KDYNlNUTTlSS21pQmM\n",
            "From (redirected): https://drive.google.com/uc?id=0B7XkCwpI5KDYNlNUTTlSS21pQmM&confirm=t&uuid=ace70729-2698-4348-b625-6b730d9b262b\n",
            "To: /content/word2vec.bin.gz\n",
            "100%|██████████| 1.65G/1.65G [00:47<00:00, 34.4MB/s]"
          ]
        },
        {
          "output_type": "stream",
          "name": "stdout",
          "text": [
            "gzip: word2vec_output.gz: No such file or directory\n"
          ]
        },
        {
          "output_type": "stream",
          "name": "stderr",
          "text": [
            "\n"
          ]
        }
      ]
    },
    {
      "cell_type": "code",
      "source": [
        "!wget https://nlp.stanford.edu/data/glove.6B.zip\n",
        "!unzip glove.6B.zip\n"
      ],
      "metadata": {
        "colab": {
          "base_uri": "https://localhost:8080/"
        },
        "id": "e2rcJulJw1HR",
        "outputId": "01fd25df-5b56-44da-bf55-8b3c136dc307"
      },
      "execution_count": 3,
      "outputs": [
        {
          "output_type": "stream",
          "name": "stdout",
          "text": [
            "--2024-06-02 21:50:07--  https://nlp.stanford.edu/data/glove.6B.zip\n",
            "Resolving nlp.stanford.edu (nlp.stanford.edu)... 171.64.67.140\n",
            "Connecting to nlp.stanford.edu (nlp.stanford.edu)|171.64.67.140|:443... connected.\n",
            "HTTP request sent, awaiting response... 301 Moved Permanently\n",
            "Location: https://downloads.cs.stanford.edu/nlp/data/glove.6B.zip [following]\n",
            "--2024-06-02 21:50:07--  https://downloads.cs.stanford.edu/nlp/data/glove.6B.zip\n",
            "Resolving downloads.cs.stanford.edu (downloads.cs.stanford.edu)... 171.64.64.22\n",
            "Connecting to downloads.cs.stanford.edu (downloads.cs.stanford.edu)|171.64.64.22|:443... connected.\n",
            "HTTP request sent, awaiting response... 200 OK\n",
            "Length: 862182613 (822M) [application/zip]\n",
            "Saving to: ‘glove.6B.zip’\n",
            "\n",
            "glove.6B.zip        100%[===================>] 822.24M  5.13MB/s    in 2m 40s  \n",
            "\n",
            "2024-06-02 21:52:49 (5.13 MB/s) - ‘glove.6B.zip’ saved [862182613/862182613]\n",
            "\n",
            "Archive:  glove.6B.zip\n",
            "  inflating: glove.6B.50d.txt        \n",
            "  inflating: glove.6B.100d.txt       \n",
            "  inflating: glove.6B.200d.txt       \n",
            "  inflating: glove.6B.300d.txt       \n"
          ]
        }
      ]
    },
    {
      "cell_type": "code",
      "source": [
        "!wget https://dl.fbaipublicfiles.com/fasttext/vectors-crawl/cc.en.300.bin.gz\n",
        "#!gunzip cc.en.300.bin.gz"
      ],
      "metadata": {
        "colab": {
          "base_uri": "https://localhost:8080/"
        },
        "id": "wCuE2WdYxPRG",
        "outputId": "972d9a57-047b-45c8-a1d3-c2b045c58d88"
      },
      "execution_count": 12,
      "outputs": [
        {
          "output_type": "stream",
          "name": "stdout",
          "text": [
            "--2024-06-02 21:55:25--  https://dl.fbaipublicfiles.com/fasttext/vectors-crawl/cc.en.300.bin.gz\n",
            "Resolving dl.fbaipublicfiles.com (dl.fbaipublicfiles.com)... 108.157.254.15, 108.157.254.121, 108.157.254.124, ...\n",
            "Connecting to dl.fbaipublicfiles.com (dl.fbaipublicfiles.com)|108.157.254.15|:443... connected.\n",
            "HTTP request sent, awaiting response... 200 OK\n",
            "Length: 4503593528 (4.2G) [application/octet-stream]\n",
            "Saving to: ‘cc.en.300.bin.gz.1’\n",
            "\n",
            "cc.en.300.bin.gz.1  100%[===================>]   4.19G  37.0MB/s    in 2m 25s  \n",
            "\n",
            "2024-06-02 21:57:50 (29.5 MB/s) - ‘cc.en.300.bin.gz.1’ saved [4503593528/4503593528]\n",
            "\n"
          ]
        }
      ]
    },
    {
      "cell_type": "markdown",
      "source": [
        "#Importing data as a Dataframe"
      ],
      "metadata": {
        "id": "9xHMYMHJxVk5"
      }
    },
    {
      "cell_type": "code",
      "source": [
        "Content_df = pd.read_csv(\"sample_data/Rec_sys_content.csv\")\n",
        "# Viewing Top 5 Rows\n",
        "Content_df.head(5)"
      ],
      "metadata": {
        "colab": {
          "base_uri": "https://localhost:8080/",
          "height": 310
        },
        "id": "APeFXGeuxUQ0",
        "outputId": "c81e5e4c-38ba-4838-fc94-cd2cd19f6a15"
      },
      "execution_count": 17,
      "outputs": [
        {
          "output_type": "execute_result",
          "data": {
            "text/plain": [
              "  StockCode                                       Product Name  \\\n",
              "0     22629  Ganma Superheroes Ordinary Life Case For Samsu...   \n",
              "1     21238  Eye Buy Express Prescription Glasses Mens Wome...   \n",
              "2     22181  MightySkins Skin Decal Wrap Compatible with Ni...   \n",
              "3     84879  Mediven Sheer and Soft 15-20 mmHg Thigh w/ Lac...   \n",
              "4     84836      Stupell Industries Chevron Initial Wall D cor   \n",
              "\n",
              "                                         Description  \\\n",
              "0  New unique design, great gift.High quality pla...   \n",
              "1  Rounded rectangular cat-eye reading glasses. T...   \n",
              "2  Each Nintendo 2DS kit is printed with super-hi...   \n",
              "3  The sheerest compression stocking in its class...   \n",
              "4  Features: -Made in the USA. -Sawtooth hanger o...   \n",
              "\n",
              "                                            Category               Brand  \\\n",
              "0  Cell Phones|Cellphone Accessories|Cases & Prot...               Ganma   \n",
              "1          Health|Home Health Care|Daily Living Aids     Eye Buy Express   \n",
              "2  Video Games|Video Game Accessories|Accessories...         Mightyskins   \n",
              "3          Health|Medicine Cabinet|Braces & Supports                Medi   \n",
              "4  Home Improvement|Paint|Wall Decals|All Wall De...  Stupell Industries   \n",
              "\n",
              "   Unit Price  \n",
              "0       13.99  \n",
              "1       19.22  \n",
              "2       14.99  \n",
              "3       62.38  \n",
              "4       35.99  "
            ],
            "text/html": [
              "\n",
              "  <div id=\"df-de83d94e-0f81-4ca5-8924-4d4c8073b0d6\" class=\"colab-df-container\">\n",
              "    <div>\n",
              "<style scoped>\n",
              "    .dataframe tbody tr th:only-of-type {\n",
              "        vertical-align: middle;\n",
              "    }\n",
              "\n",
              "    .dataframe tbody tr th {\n",
              "        vertical-align: top;\n",
              "    }\n",
              "\n",
              "    .dataframe thead th {\n",
              "        text-align: right;\n",
              "    }\n",
              "</style>\n",
              "<table border=\"1\" class=\"dataframe\">\n",
              "  <thead>\n",
              "    <tr style=\"text-align: right;\">\n",
              "      <th></th>\n",
              "      <th>StockCode</th>\n",
              "      <th>Product Name</th>\n",
              "      <th>Description</th>\n",
              "      <th>Category</th>\n",
              "      <th>Brand</th>\n",
              "      <th>Unit Price</th>\n",
              "    </tr>\n",
              "  </thead>\n",
              "  <tbody>\n",
              "    <tr>\n",
              "      <th>0</th>\n",
              "      <td>22629</td>\n",
              "      <td>Ganma Superheroes Ordinary Life Case For Samsu...</td>\n",
              "      <td>New unique design, great gift.High quality pla...</td>\n",
              "      <td>Cell Phones|Cellphone Accessories|Cases &amp; Prot...</td>\n",
              "      <td>Ganma</td>\n",
              "      <td>13.99</td>\n",
              "    </tr>\n",
              "    <tr>\n",
              "      <th>1</th>\n",
              "      <td>21238</td>\n",
              "      <td>Eye Buy Express Prescription Glasses Mens Wome...</td>\n",
              "      <td>Rounded rectangular cat-eye reading glasses. T...</td>\n",
              "      <td>Health|Home Health Care|Daily Living Aids</td>\n",
              "      <td>Eye Buy Express</td>\n",
              "      <td>19.22</td>\n",
              "    </tr>\n",
              "    <tr>\n",
              "      <th>2</th>\n",
              "      <td>22181</td>\n",
              "      <td>MightySkins Skin Decal Wrap Compatible with Ni...</td>\n",
              "      <td>Each Nintendo 2DS kit is printed with super-hi...</td>\n",
              "      <td>Video Games|Video Game Accessories|Accessories...</td>\n",
              "      <td>Mightyskins</td>\n",
              "      <td>14.99</td>\n",
              "    </tr>\n",
              "    <tr>\n",
              "      <th>3</th>\n",
              "      <td>84879</td>\n",
              "      <td>Mediven Sheer and Soft 15-20 mmHg Thigh w/ Lac...</td>\n",
              "      <td>The sheerest compression stocking in its class...</td>\n",
              "      <td>Health|Medicine Cabinet|Braces &amp; Supports</td>\n",
              "      <td>Medi</td>\n",
              "      <td>62.38</td>\n",
              "    </tr>\n",
              "    <tr>\n",
              "      <th>4</th>\n",
              "      <td>84836</td>\n",
              "      <td>Stupell Industries Chevron Initial Wall D cor</td>\n",
              "      <td>Features: -Made in the USA. -Sawtooth hanger o...</td>\n",
              "      <td>Home Improvement|Paint|Wall Decals|All Wall De...</td>\n",
              "      <td>Stupell Industries</td>\n",
              "      <td>35.99</td>\n",
              "    </tr>\n",
              "  </tbody>\n",
              "</table>\n",
              "</div>\n",
              "    <div class=\"colab-df-buttons\">\n",
              "\n",
              "  <div class=\"colab-df-container\">\n",
              "    <button class=\"colab-df-convert\" onclick=\"convertToInteractive('df-de83d94e-0f81-4ca5-8924-4d4c8073b0d6')\"\n",
              "            title=\"Convert this dataframe to an interactive table.\"\n",
              "            style=\"display:none;\">\n",
              "\n",
              "  <svg xmlns=\"http://www.w3.org/2000/svg\" height=\"24px\" viewBox=\"0 -960 960 960\">\n",
              "    <path d=\"M120-120v-720h720v720H120Zm60-500h600v-160H180v160Zm220 220h160v-160H400v160Zm0 220h160v-160H400v160ZM180-400h160v-160H180v160Zm440 0h160v-160H620v160ZM180-180h160v-160H180v160Zm440 0h160v-160H620v160Z\"/>\n",
              "  </svg>\n",
              "    </button>\n",
              "\n",
              "  <style>\n",
              "    .colab-df-container {\n",
              "      display:flex;\n",
              "      gap: 12px;\n",
              "    }\n",
              "\n",
              "    .colab-df-convert {\n",
              "      background-color: #E8F0FE;\n",
              "      border: none;\n",
              "      border-radius: 50%;\n",
              "      cursor: pointer;\n",
              "      display: none;\n",
              "      fill: #1967D2;\n",
              "      height: 32px;\n",
              "      padding: 0 0 0 0;\n",
              "      width: 32px;\n",
              "    }\n",
              "\n",
              "    .colab-df-convert:hover {\n",
              "      background-color: #E2EBFA;\n",
              "      box-shadow: 0px 1px 2px rgba(60, 64, 67, 0.3), 0px 1px 3px 1px rgba(60, 64, 67, 0.15);\n",
              "      fill: #174EA6;\n",
              "    }\n",
              "\n",
              "    .colab-df-buttons div {\n",
              "      margin-bottom: 4px;\n",
              "    }\n",
              "\n",
              "    [theme=dark] .colab-df-convert {\n",
              "      background-color: #3B4455;\n",
              "      fill: #D2E3FC;\n",
              "    }\n",
              "\n",
              "    [theme=dark] .colab-df-convert:hover {\n",
              "      background-color: #434B5C;\n",
              "      box-shadow: 0px 1px 3px 1px rgba(0, 0, 0, 0.15);\n",
              "      filter: drop-shadow(0px 1px 2px rgba(0, 0, 0, 0.3));\n",
              "      fill: #FFFFFF;\n",
              "    }\n",
              "  </style>\n",
              "\n",
              "    <script>\n",
              "      const buttonEl =\n",
              "        document.querySelector('#df-de83d94e-0f81-4ca5-8924-4d4c8073b0d6 button.colab-df-convert');\n",
              "      buttonEl.style.display =\n",
              "        google.colab.kernel.accessAllowed ? 'block' : 'none';\n",
              "\n",
              "      async function convertToInteractive(key) {\n",
              "        const element = document.querySelector('#df-de83d94e-0f81-4ca5-8924-4d4c8073b0d6');\n",
              "        const dataTable =\n",
              "          await google.colab.kernel.invokeFunction('convertToInteractive',\n",
              "                                                    [key], {});\n",
              "        if (!dataTable) return;\n",
              "\n",
              "        const docLinkHtml = 'Like what you see? Visit the ' +\n",
              "          '<a target=\"_blank\" href=https://colab.research.google.com/notebooks/data_table.ipynb>data table notebook</a>'\n",
              "          + ' to learn more about interactive tables.';\n",
              "        element.innerHTML = '';\n",
              "        dataTable['output_type'] = 'display_data';\n",
              "        await google.colab.output.renderOutput(dataTable, element);\n",
              "        const docLink = document.createElement('div');\n",
              "        docLink.innerHTML = docLinkHtml;\n",
              "        element.appendChild(docLink);\n",
              "      }\n",
              "    </script>\n",
              "  </div>\n",
              "\n",
              "\n",
              "<div id=\"df-82724c81-3654-4fec-8e74-70f9c110cbca\">\n",
              "  <button class=\"colab-df-quickchart\" onclick=\"quickchart('df-82724c81-3654-4fec-8e74-70f9c110cbca')\"\n",
              "            title=\"Suggest charts\"\n",
              "            style=\"display:none;\">\n",
              "\n",
              "<svg xmlns=\"http://www.w3.org/2000/svg\" height=\"24px\"viewBox=\"0 0 24 24\"\n",
              "     width=\"24px\">\n",
              "    <g>\n",
              "        <path d=\"M19 3H5c-1.1 0-2 .9-2 2v14c0 1.1.9 2 2 2h14c1.1 0 2-.9 2-2V5c0-1.1-.9-2-2-2zM9 17H7v-7h2v7zm4 0h-2V7h2v10zm4 0h-2v-4h2v4z\"/>\n",
              "    </g>\n",
              "</svg>\n",
              "  </button>\n",
              "\n",
              "<style>\n",
              "  .colab-df-quickchart {\n",
              "      --bg-color: #E8F0FE;\n",
              "      --fill-color: #1967D2;\n",
              "      --hover-bg-color: #E2EBFA;\n",
              "      --hover-fill-color: #174EA6;\n",
              "      --disabled-fill-color: #AAA;\n",
              "      --disabled-bg-color: #DDD;\n",
              "  }\n",
              "\n",
              "  [theme=dark] .colab-df-quickchart {\n",
              "      --bg-color: #3B4455;\n",
              "      --fill-color: #D2E3FC;\n",
              "      --hover-bg-color: #434B5C;\n",
              "      --hover-fill-color: #FFFFFF;\n",
              "      --disabled-bg-color: #3B4455;\n",
              "      --disabled-fill-color: #666;\n",
              "  }\n",
              "\n",
              "  .colab-df-quickchart {\n",
              "    background-color: var(--bg-color);\n",
              "    border: none;\n",
              "    border-radius: 50%;\n",
              "    cursor: pointer;\n",
              "    display: none;\n",
              "    fill: var(--fill-color);\n",
              "    height: 32px;\n",
              "    padding: 0;\n",
              "    width: 32px;\n",
              "  }\n",
              "\n",
              "  .colab-df-quickchart:hover {\n",
              "    background-color: var(--hover-bg-color);\n",
              "    box-shadow: 0 1px 2px rgba(60, 64, 67, 0.3), 0 1px 3px 1px rgba(60, 64, 67, 0.15);\n",
              "    fill: var(--button-hover-fill-color);\n",
              "  }\n",
              "\n",
              "  .colab-df-quickchart-complete:disabled,\n",
              "  .colab-df-quickchart-complete:disabled:hover {\n",
              "    background-color: var(--disabled-bg-color);\n",
              "    fill: var(--disabled-fill-color);\n",
              "    box-shadow: none;\n",
              "  }\n",
              "\n",
              "  .colab-df-spinner {\n",
              "    border: 2px solid var(--fill-color);\n",
              "    border-color: transparent;\n",
              "    border-bottom-color: var(--fill-color);\n",
              "    animation:\n",
              "      spin 1s steps(1) infinite;\n",
              "  }\n",
              "\n",
              "  @keyframes spin {\n",
              "    0% {\n",
              "      border-color: transparent;\n",
              "      border-bottom-color: var(--fill-color);\n",
              "      border-left-color: var(--fill-color);\n",
              "    }\n",
              "    20% {\n",
              "      border-color: transparent;\n",
              "      border-left-color: var(--fill-color);\n",
              "      border-top-color: var(--fill-color);\n",
              "    }\n",
              "    30% {\n",
              "      border-color: transparent;\n",
              "      border-left-color: var(--fill-color);\n",
              "      border-top-color: var(--fill-color);\n",
              "      border-right-color: var(--fill-color);\n",
              "    }\n",
              "    40% {\n",
              "      border-color: transparent;\n",
              "      border-right-color: var(--fill-color);\n",
              "      border-top-color: var(--fill-color);\n",
              "    }\n",
              "    60% {\n",
              "      border-color: transparent;\n",
              "      border-right-color: var(--fill-color);\n",
              "    }\n",
              "    80% {\n",
              "      border-color: transparent;\n",
              "      border-right-color: var(--fill-color);\n",
              "      border-bottom-color: var(--fill-color);\n",
              "    }\n",
              "    90% {\n",
              "      border-color: transparent;\n",
              "      border-bottom-color: var(--fill-color);\n",
              "    }\n",
              "  }\n",
              "</style>\n",
              "\n",
              "  <script>\n",
              "    async function quickchart(key) {\n",
              "      const quickchartButtonEl =\n",
              "        document.querySelector('#' + key + ' button');\n",
              "      quickchartButtonEl.disabled = true;  // To prevent multiple clicks.\n",
              "      quickchartButtonEl.classList.add('colab-df-spinner');\n",
              "      try {\n",
              "        const charts = await google.colab.kernel.invokeFunction(\n",
              "            'suggestCharts', [key], {});\n",
              "      } catch (error) {\n",
              "        console.error('Error during call to suggestCharts:', error);\n",
              "      }\n",
              "      quickchartButtonEl.classList.remove('colab-df-spinner');\n",
              "      quickchartButtonEl.classList.add('colab-df-quickchart-complete');\n",
              "    }\n",
              "    (() => {\n",
              "      let quickchartButtonEl =\n",
              "        document.querySelector('#df-82724c81-3654-4fec-8e74-70f9c110cbca button');\n",
              "      quickchartButtonEl.style.display =\n",
              "        google.colab.kernel.accessAllowed ? 'block' : 'none';\n",
              "    })();\n",
              "  </script>\n",
              "</div>\n",
              "\n",
              "    </div>\n",
              "  </div>\n"
            ],
            "application/vnd.google.colaboratory.intrinsic+json": {
              "type": "dataframe",
              "variable_name": "Content_df",
              "summary": "{\n  \"name\": \"Content_df\",\n  \"rows\": 3958,\n  \"fields\": [\n    {\n      \"column\": \"StockCode\",\n      \"properties\": {\n        \"dtype\": \"string\",\n        \"num_unique_values\": 3958,\n        \"samples\": [\n          \"23012\",\n          \"22529\",\n          \"21647\"\n        ],\n        \"semantic_type\": \"\",\n        \"description\": \"\"\n      }\n    },\n    {\n      \"column\": \"Product Name\",\n      \"properties\": {\n        \"dtype\": \"category\",\n        \"num_unique_values\": 796,\n        \"samples\": [\n          \"LG Fiesta Wallet Case - Basket Ball Case\",\n          \"Strong Knee Sleeves by Sling Shot - Black Medium\",\n          \"The Holiday Aisle LED C7 Faceted Christmas Light Bulb\"\n        ],\n        \"semantic_type\": \"\",\n        \"description\": \"\"\n      }\n    },\n    {\n      \"column\": \"Description\",\n      \"properties\": {\n        \"dtype\": \"category\",\n        \"num_unique_values\": 795,\n        \"samples\": [\n          \"LG Fiesta Wallet Basket Ball Case|Unique, Customized Graphic Image Wallet Case The protection of your LG Fiesta cell phone is vital to keeping your phone functioning properly. Things like cracks and dents can not only destroy the exterior, but may also damage the interior to your phone. With a LG Fiesta Wallet Case , you get a style that fits your personality and a cover that will guard it from danger. Create a combination of sophisticated style and protection using this LG Fiesta Wallet Case. Safely carry your Fiesta phone with this secure flip. Made of premium textured hard plastic back with high quality PU leather coated front cover for durability and classic good leather look and feel. The interior is lined with soft anti-scratch material that protects your phone from further bumps and scratches. Compact, durable and lightweight, with all phone features accessible, including all ports, buttons and camera. The LG Fiesta Wallet Case Features and Specifications: Textured synthetic leather finish adds a distinct and sophisticated feel. Lanyard included. Built-in TPU snap-on case keeps your LG Fiesta securely in place. Precise cutouts allow quick access to all ports, buttons and camera hole Magnetic closing flap keeps the front cover safely closed, ensures your valuables are hidden, safe and secure. Multiple card slots High Definition Printing of custom one of a kind designs, protected by copyright, printed in Orlando, Florida by TREK\\u2122 Perfect Fit for the LG Fiesta phone. *** Please note: The LG Fiesta phone is not include.\",\n          \"|This collection of previously released episodes will introduce new listeners to the characters and the early days of Adventures in Odyssey at a special low price! Each volume features three exciting, action-packed stories. Bible stories, character-building adventures, and historical events are all fair game for object lessons in living. Collect them all!\",\n          \"Mightyskins are removable vinyl skins for protecting and customizing your devices. This is a decal skin that applies to your existing YETI Tundra 110 qt Cooler Lid. They feature ultra high resolution designs, the perfect way to add some style and stand out from the crowd. Mightyskins have a durable matte laminate that protects from scratching, fading and peeling. With our patented adhesive technology MightySkins remove cleanly when you want to remove them or switch to another design. No sticky mess guaranteed! YETI Tundra 110 qt Cooler Lid is not included.|This is NOT A HARD CASE (Skin Decal Only). It is a vinyl skin/decal sticker and is NOT made of rubber, silicone, gel or plastic. Device shown not included.\"\n        ],\n        \"semantic_type\": \"\",\n        \"description\": \"\"\n      }\n    },\n    {\n      \"column\": \"Category\",\n      \"properties\": {\n        \"dtype\": \"category\",\n        \"num_unique_values\": 374,\n        \"samples\": [\n          \"Home|Kitchen & Dining|Tools & Gadgets|Kitchen Tools & Gadgets|Decorative Nutcrackers\",\n          \"Jewelry|Jewelry Boxes & Organizers|Jewelry Boxes & Organizers\",\n          \"Pets|Dogs|Dog Collars & Leashes\"\n        ],\n        \"semantic_type\": \"\",\n        \"description\": \"\"\n      }\n    },\n    {\n      \"column\": \"Brand\",\n      \"properties\": {\n        \"dtype\": \"category\",\n        \"num_unique_values\": 545,\n        \"samples\": [\n          \"Pete the Cat\",\n          \"Darby Home Co\",\n          \"Animal World\"\n        ],\n        \"semantic_type\": \"\",\n        \"description\": \"\"\n      }\n    },\n    {\n      \"column\": \"Unit Price\",\n      \"properties\": {\n        \"dtype\": \"number\",\n        \"std\": 534.7690936857637,\n        \"min\": 0.98,\n        \"max\": 22144.55,\n        \"num_unique_values\": 1111,\n        \"samples\": [\n          69.95,\n          30.1,\n          28.99\n        ],\n        \"semantic_type\": \"\",\n        \"description\": \"\"\n      }\n    }\n  ]\n}"
            }
          },
          "metadata": {},
          "execution_count": 17
        }
      ]
    },
    {
      "cell_type": "code",
      "source": [
        "Content_df.info()"
      ],
      "metadata": {
        "colab": {
          "base_uri": "https://localhost:8080/"
        },
        "id": "vLz2Y8dyyXaU",
        "outputId": "8545d2d8-3344-4fe8-85d7-1110d757c249"
      },
      "execution_count": 18,
      "outputs": [
        {
          "output_type": "stream",
          "name": "stdout",
          "text": [
            "<class 'pandas.core.frame.DataFrame'>\n",
            "RangeIndex: 3958 entries, 0 to 3957\n",
            "Data columns (total 6 columns):\n",
            " #   Column        Non-Null Count  Dtype  \n",
            "---  ------        --------------  -----  \n",
            " 0   StockCode     3958 non-null   object \n",
            " 1   Product Name  3958 non-null   object \n",
            " 2   Description   3958 non-null   object \n",
            " 3   Category      3856 non-null   object \n",
            " 4   Brand         3818 non-null   object \n",
            " 5   Unit Price    3943 non-null   float64\n",
            "dtypes: float64(1), object(5)\n",
            "memory usage: 185.7+ KB\n"
          ]
        }
      ]
    },
    {
      "cell_type": "code",
      "source": [
        "Content_df.shape"
      ],
      "metadata": {
        "colab": {
          "base_uri": "https://localhost:8080/"
        },
        "id": "Jl9Koc8dyxUh",
        "outputId": "538c8c6f-4108-44ff-b423-31c1c5049021"
      },
      "execution_count": 19,
      "outputs": [
        {
          "output_type": "execute_result",
          "data": {
            "text/plain": [
              "(3958, 6)"
            ]
          },
          "metadata": {},
          "execution_count": 19
        }
      ]
    },
    {
      "cell_type": "code",
      "source": [
        "Content_df.isnull().sum(axis=0)"
      ],
      "metadata": {
        "colab": {
          "base_uri": "https://localhost:8080/"
        },
        "id": "aXQkZllxy-2G",
        "outputId": "8517174b-43a3-47c3-b07d-ad0639990f9a"
      },
      "execution_count": 20,
      "outputs": [
        {
          "output_type": "execute_result",
          "data": {
            "text/plain": [
              "StockCode         0\n",
              "Product Name      0\n",
              "Description       0\n",
              "Category        102\n",
              "Brand           140\n",
              "Unit Price       15\n",
              "dtype: int64"
            ]
          },
          "metadata": {},
          "execution_count": 20
        }
      ]
    },
    {
      "cell_type": "code",
      "source": [
        "#importing Word2Vec\n",
        "word2vecModel = models.KeyedVectors.load_word2vec_format('word2vec.bin.gz', binary=True)"
      ],
      "metadata": {
        "id": "CjhP1m64zFjN"
      },
      "execution_count": 21,
      "outputs": []
    },
    {
      "cell_type": "code",
      "source": [
        "#importing FastText\n",
        "#fasttext_model = ft.load_fasttext_format(\"cc.en.300.bin\")"
      ],
      "metadata": {
        "id": "rLwpipA9zpLJ"
      },
      "execution_count": 22,
      "outputs": []
    },
    {
      "cell_type": "code",
      "source": [
        "#Import Glove\n",
        "glove_df = pd.read_csv('glove.6B.300d.txt',sep=\" \",\n",
        "                       quoting=3, header=None, index_col=0)\n",
        "glove_model = {key:value.values for key, value in glove_df.T.items()}"
      ],
      "metadata": {
        "id": "pwKvqoMp0JL5"
      },
      "execution_count": 23,
      "outputs": []
    },
    {
      "cell_type": "markdown",
      "source": [
        "## Text pre-processing"
      ],
      "metadata": {
        "id": "pGTYZhib1Din"
      }
    },
    {
      "cell_type": "code",
      "source": [
        "## combining product and description\n",
        "Content_df['Description'] = Content_df['Product Name'] + ' ' +Content_df['Description']\n",
        "\n",
        "##dropping duplicates and keeping first records\n",
        "unique_df = Content_df.drop_duplicates(subset=['Description'], keep='first')\n",
        "\n",
        "## Converting String to Lower Case\n",
        "unique_df['desc_lowered'] = unique_df['Description'].apply(lambda x:x.lower())\n",
        "\n",
        "## remove Stop special characters\n",
        "unique_df['desc_lowered'] = unique_df['desc_lowered'].apply(lambda x:re.sub(r'[^\\w\\s]','',x))\n",
        "\n",
        "#converting description to list\n",
        "desc_list = list(unique_df['desc_lowered'])\n",
        "unique_df = unique_df.reset_index(drop=True)"
      ],
      "metadata": {
        "colab": {
          "base_uri": "https://localhost:8080/"
        },
        "id": "5lwSVJVj02Vh",
        "outputId": "b9d10f67-8a5e-418d-b431-c010bb9fcbc8"
      },
      "execution_count": 24,
      "outputs": [
        {
          "output_type": "stream",
          "name": "stderr",
          "text": [
            "<ipython-input-24-b2228480fb5b>:8: SettingWithCopyWarning: \n",
            "A value is trying to be set on a copy of a slice from a DataFrame.\n",
            "Try using .loc[row_indexer,col_indexer] = value instead\n",
            "\n",
            "See the caveats in the documentation: https://pandas.pydata.org/pandas-docs/stable/user_guide/indexing.html#returning-a-view-versus-a-copy\n",
            "  unique_df['desc_lowered'] = unique_df['Description'].apply(lambda x:x.lower())\n",
            "<ipython-input-24-b2228480fb5b>:11: SettingWithCopyWarning: \n",
            "A value is trying to be set on a copy of a slice from a DataFrame.\n",
            "Try using .loc[row_indexer,col_indexer] = value instead\n",
            "\n",
            "See the caveats in the documentation: https://pandas.pydata.org/pandas-docs/stable/user_guide/indexing.html#returning-a-view-versus-a-copy\n",
            "  unique_df['desc_lowered'] = unique_df['desc_lowered'].apply(lambda x:re.sub(r'[^\\w\\s]','',x))\n"
          ]
        }
      ]
    },
    {
      "cell_type": "markdown",
      "source": [
        "# **Text to Features**\n",
        "\n",
        "\n",
        "\n",
        "1.   One Hot encoding\n",
        "2.   Count Vectorizer\n",
        "3.   TF-IDF\n",
        "\n"
      ],
      "metadata": {
        "id": "YWbnBOwv-J_i"
      }
    },
    {
      "cell_type": "markdown",
      "source": [
        "## **Word Embedding**"
      ],
      "metadata": {
        "id": "s21E8FAP-NW6"
      }
    },
    {
      "cell_type": "code",
      "source": [
        "#importing count vectorizer\n",
        "cnt_vec = CountVectorizer(stop_words = 'english')"
      ],
      "metadata": {
        "id": "UN30-bpm-Eo1"
      },
      "execution_count": 26,
      "outputs": []
    },
    {
      "cell_type": "code",
      "source": [
        "#importing IFIDF\n",
        "tfidf_vec = TfidfVectorizer(stop_words='english', analyzer='word', ngram_range=(1,3))"
      ],
      "metadata": {
        "id": "5Mbe7P63-gL_"
      },
      "execution_count": 27,
      "outputs": []
    },
    {
      "cell_type": "markdown",
      "source": [
        "## **Similarity measures**\n",
        "\n",
        "1. Eucleadian distance\n",
        "2. Cosine similarity\n",
        "3. Manhattan distance"
      ],
      "metadata": {
        "id": "ODOt_RI2_CJ9"
      }
    },
    {
      "cell_type": "code",
      "source": [
        "#Eculedian distance\n",
        "def find_euclidean_distances(sim_matrix, index, n=10):\n",
        "  #Getting Score and Index\n",
        "  result = list(enumerate(sim_matrix[index]))\n",
        "\n",
        "  #Sorting the Score and taking top 10 products\n",
        "  sorted_result = sorted(result, key=lambda x:x[1], reverse=False)[1:10+1]\n",
        "\n",
        "  #Mapping index with data\n",
        "  similar_products = [{'value': unique_df.iloc[x[0]]['Product Name'], 'score':round(x[1], 2)} for x in sorted_result]\n",
        "\n",
        "  return similar_products"
      ],
      "metadata": {
        "id": "CC5sEBxj--7w"
      },
      "execution_count": 28,
      "outputs": []
    },
    {
      "cell_type": "code",
      "source": [
        "def find_similarity(cosine_sim_matrix, index, n=10):\n",
        "\n",
        "    # calculate cosine similarity between each vectors\n",
        "    result = list(enumerate(cosine_sim_matrix[index]))\n",
        "\n",
        "    # Sorting the Score\n",
        "    sorted_result = sorted(result,key=lambda x:x[1],reverse=True)[1:n+1]\n",
        "\n",
        "    similar_products =  [{'value': unique_df.iloc[x[0]]['Product Name'], 'score' : round(x[1], 2)} for x in sorted_result]\n",
        "\n",
        "    return similar_products"
      ],
      "metadata": {
        "id": "I3QcwO84CNa2"
      },
      "execution_count": 42,
      "outputs": []
    },
    {
      "cell_type": "code",
      "source": [
        "#Manhattan similarity\n",
        "def find_manhattan_distance(sim_matrix, index, n=10):\n",
        "  #Getting Score and Index\n",
        "  result = list(enumerate(sim_matrix[index]))\n",
        "\n",
        "  #Sorting the Score and taking top 10 products\n",
        "  sorted_result = sorted(result, key=lambda x:x[1], reverse=False)[1:10+1]\n",
        "\n",
        "  #Mapping index with data\n",
        "  similar_products = [{'value': unique_df.iloc[x[0]]['Product Name'], 'score':round(x[1], 2)} for x in sorted_result]\n",
        "\n",
        "  return similar_products"
      ],
      "metadata": {
        "id": "SNlxOjFbCj16"
      },
      "execution_count": 30,
      "outputs": []
    },
    {
      "cell_type": "markdown",
      "source": [
        "## **Build a model using CountVectorizer**"
      ],
      "metadata": {
        "id": "qkz4jqneDH43"
      }
    },
    {
      "cell_type": "code",
      "source": [
        "from math import e\n",
        "from operator import index\n",
        "#comparing similarity to ge tthe top matches using count Vec\n",
        "def get_recommendation_cv(product_id, df, similarity, n=10):\n",
        "\n",
        "  row = df.loc[df['Product Name'] == product_id]\n",
        "  index = list(row.index)[0]\n",
        "  description = row['desc_lowered'].loc[index]\n",
        "\n",
        "  #create vector using Count Vectorizer\n",
        "  count_vector = cnt_vec.fit_transform(desc_list)\n",
        "\n",
        "  if similarity == \"cosine\":\n",
        "    sim_matrix = cosine_similarity(count_vector)\n",
        "    products = find_similarity(sim_matrix , index)\n",
        "  elif similarity == \"manhattan\":\n",
        "    sim_matrix = manhattan_distances(count_vector)\n",
        "    products = find_manhattan_distance(sim_matrix, index)\n",
        "  else:\n",
        "    sim_matrix = euclidean_distances(count_vector)\n",
        "    products = find_euclidean_distances(sim_matrix, index)\n",
        "\n",
        "  return products"
      ],
      "metadata": {
        "id": "qUojXLTSCzAv"
      },
      "execution_count": 45,
      "outputs": []
    },
    {
      "cell_type": "code",
      "source": [
        "product_id = 'Vickerman 14\" Finial Drop Christmas Ornaments, Pack of 2'\n",
        "\n",
        "# Cosine Similarity\n",
        "get_recommendation_cv(product_id, unique_df, similarity = \"cosine\", n=10)"
      ],
      "metadata": {
        "colab": {
          "base_uri": "https://localhost:8080/"
        },
        "id": "HffHwuoLFDUQ",
        "outputId": "e67c7fc0-bce4-448b-8741-57f231c563c6"
      },
      "execution_count": 46,
      "outputs": [
        {
          "output_type": "execute_result",
          "data": {
            "text/plain": [
              "[{'value': 'Fancyleo Christmas Glasses Frames 2 Pack Glittered Eyeglasses Glasses Set No Lens Kids Family Xmas Party Ornaments Gift',\n",
              "  'score': 0.28},\n",
              " {'value': 'storefront christmas LED Decoration Light Gold Color Star Shape Vine Wedding Party event',\n",
              "  'score': 0.2},\n",
              " {'value': '16 inches 40 inches \"MERRY CHRISTMAS\" Letter Foil Inflated Balloon Float Helium Aluminum Balloons for Christmas Decoration',\n",
              "  'score': 0.19},\n",
              " {'value': '12ct Light Gunmetal Gray Shatterproof 4-Finish Christmas Ball Ornaments 4\" (100mm)',\n",
              "  'score': 0.19},\n",
              " {'value': 'PeanutsÃ‚Â Valentine Sign Craft Kit (Pack of 12)', 'score': 0.13},\n",
              " {'value': 'Simplicity 3 Pack Elastic Hair Ties White/Pink/Pink Leopard, 24 Count',\n",
              "  'score': 0.13},\n",
              " {'value': '3 Pack Newbee Fashion- \"Butterfly\" Thin Design Gold Emblem Reading Glasses with Lanyard +1.75',\n",
              "  'score': 0.12},\n",
              " {'value': 'Paper Mate Write Bros. Grip Mechanical Pencil, 0.7mm 5 ea (Pack of 2)',\n",
              "  'score': 0.11},\n",
              " {'value': 'Christopher Radko Glass Plum Frosty Snowman Christmas Ornament #1017624',\n",
              "  'score': 0.11},\n",
              " {'value': 'Is It To Late To Be Good Grinch Christmas Mens Tank Top Shirt',\n",
              "  'score': 0.11}]"
            ]
          },
          "metadata": {},
          "execution_count": 46
        }
      ]
    },
    {
      "cell_type": "code",
      "source": [
        "# Manhattan Similarity\n",
        "get_recommendation_cv(product_id, unique_df, similarity = \"manhattan\", n=10)"
      ],
      "metadata": {
        "colab": {
          "base_uri": "https://localhost:8080/"
        },
        "id": "OllOK5InFjd3",
        "outputId": "defebe4c-b6d0-463c-b1ee-1993b1c33c5c"
      },
      "execution_count": 47,
      "outputs": [
        {
          "output_type": "execute_result",
          "data": {
            "text/plain": [
              "[{'value': 'Stepping Stones', 'score': 43.0},\n",
              " {'value': 'Global Portuguese', 'score': 43.0},\n",
              " {'value': 'Polo Blue by Ralph Lauren', 'score': 43.0},\n",
              " {'value': 'Auburn Leathercrafters Tuscany Leather Dog Collar', 'score': 45.0},\n",
              " {'value': 'Leftover Salmon', 'score': 45.0},\n",
              " {'value': 'Good (Vinyl)', 'score': 45.0},\n",
              " {'value': 'Drunken Monkeys', 'score': 45.0},\n",
              " {'value': 'DuraTech Roof Support Trim', 'score': 47.0},\n",
              " {'value': 'Amerlite Niche Sealing Ring', 'score': 47.0},\n",
              " {'value': 'Learning and Performance in Corrections', 'score': 47.0}]"
            ]
          },
          "metadata": {},
          "execution_count": 47
        }
      ]
    },
    {
      "cell_type": "code",
      "source": [
        "# Euclidean Similarity\n",
        "get_recommendation_cv(product_id, unique_df, similarity = \"euclidean\", n=10)"
      ],
      "metadata": {
        "colab": {
          "base_uri": "https://localhost:8080/"
        },
        "id": "yh5l7dxjGKZX",
        "outputId": "1a377d82-78e9-4dc7-f594-41d29bb4db18"
      },
      "execution_count": 48,
      "outputs": [
        {
          "output_type": "execute_result",
          "data": {
            "text/plain": [
              "[{'value': 'Polo Blue by Ralph Lauren', 'score': 9.0},\n",
              " {'value': 'Auburn Leathercrafters Tuscany Leather Dog Collar', 'score': 9.11},\n",
              " {'value': 'Global Portuguese', 'score': 9.11},\n",
              " {'value': 'Stepping Stones', 'score': 9.22},\n",
              " {'value': 'Always in My Heart', 'score': 9.22},\n",
              " {'value': 'Leftover Salmon', 'score': 9.22},\n",
              " {'value': 'Good (Vinyl)', 'score': 9.22},\n",
              " {'value': 'Drunken Monkeys', 'score': 9.22},\n",
              " {'value': 'Learning and Performance in Corrections', 'score': 9.43},\n",
              " {'value': 'Chasing Hamburg (Vinyl)', 'score': 9.43}]"
            ]
          },
          "metadata": {},
          "execution_count": 48
        }
      ]
    },
    {
      "cell_type": "markdown",
      "source": [
        "## **Build a Model using TF-IDF features**"
      ],
      "metadata": {
        "id": "NSnOs7CzGkI5"
      }
    },
    {
      "cell_type": "code",
      "source": [
        "from math import e\n",
        "from operator import index\n",
        "#comparing similarity to ge tthe top matches using count Vec\n",
        "def get_recommendation_tfidf(product_id, df, similarity, n=10):\n",
        "\n",
        "  row = df.loc[df['Product Name'] == product_id]\n",
        "  index = list(row.index)[0]\n",
        "  description = row['desc_lowered'].loc[index]\n",
        "\n",
        "  #create vector using Count Vectorizer\n",
        "  tfidf_matrix = tfidf_vec.fit_transform(desc_list)\n",
        "\n",
        "  if similarity == \"cosine\":\n",
        "    sim_matrix = cosine_similarity(tfidf_matrix)\n",
        "    products = find_similarity(sim_matrix , index)\n",
        "  elif similarity == \"manhattan\":\n",
        "    sim_matrix = manhattan_distances(tfidf_matrix)\n",
        "    products = find_manhattan_distance(sim_matrix, index)\n",
        "  else:\n",
        "    sim_matrix = euclidean_distances(tfidf_matrix)\n",
        "    products = find_euclidean_distances(sim_matrix, index)\n",
        "\n",
        "  return products"
      ],
      "metadata": {
        "id": "jB66JmgyGeaT"
      },
      "execution_count": 49,
      "outputs": []
    },
    {
      "cell_type": "code",
      "source": [
        "# Cosine Similarity\n",
        "get_recommendation_tfidf(product_id, unique_df, similarity = \"cosine\", n=10)"
      ],
      "metadata": {
        "colab": {
          "base_uri": "https://localhost:8080/"
        },
        "id": "hqdtjQ2mHGjf",
        "outputId": "449e396d-3dd0-4886-8989-3276e93726b6"
      },
      "execution_count": 50,
      "outputs": [
        {
          "output_type": "execute_result",
          "data": {
            "text/plain": [
              "[{'value': 'Fancyleo Christmas Glasses Frames 2 Pack Glittered Eyeglasses Glasses Set No Lens Kids Family Xmas Party Ornaments Gift',\n",
              "  'score': 0.07},\n",
              " {'value': 'storefront christmas LED Decoration Light Gold Color Star Shape Vine Wedding Party event',\n",
              "  'score': 0.05},\n",
              " {'value': '12ct Light Gunmetal Gray Shatterproof 4-Finish Christmas Ball Ornaments 4\" (100mm)',\n",
              "  'score': 0.05},\n",
              " {'value': '16 inches 40 inches \"MERRY CHRISTMAS\" Letter Foil Inflated Balloon Float Helium Aluminum Balloons for Christmas Decoration',\n",
              "  'score': 0.05},\n",
              " {'value': 'Is It To Late To Be Good Grinch Christmas Mens Tank Top Shirt',\n",
              "  'score': 0.02},\n",
              " {'value': 'Christopher Radko Glass Plum Frosty Snowman Christmas Ornament #1017624',\n",
              "  'score': 0.02},\n",
              " {'value': 'CMFUN Watercolor Brush Creative Flower Made with Ink Hand Painting for Your Designs Pillowcase 20x20 inch',\n",
              "  'score': 0.02},\n",
              " {'value': 'SKIN DECAL FOR OtterBox Symmetry Samsung Galaxy S7 Case - Christmas Snowflake Blue Ornaments DECAL, NOT A CASE',\n",
              "  'score': 0.02},\n",
              " {'value': \"Santa's Workshop Illinois Mascot and Flag Nutcracker\",\n",
              "  'score': 0.02},\n",
              " {'value': 'The Holiday Aisle LED C7 Faceted Christmas Light Bulb',\n",
              "  'score': 0.02}]"
            ]
          },
          "metadata": {},
          "execution_count": 50
        }
      ]
    },
    {
      "cell_type": "code",
      "source": [
        "# Manhattan Similarity\n",
        "get_recommendation_tfidf(product_id, unique_df, similarity = \"manhattan\", n=10)"
      ],
      "metadata": {
        "colab": {
          "base_uri": "https://localhost:8080/"
        },
        "id": "A8BJw2nmHLEx",
        "outputId": "ccb705d5-5f4d-4955-b810-09796df6b432"
      },
      "execution_count": 51,
      "outputs": [
        {
          "output_type": "execute_result",
          "data": {
            "text/plain": [
              "[{'value': 'Stepping Stones', 'score': 11.05},\n",
              " {'value': 'Global Portuguese', 'score': 11.42},\n",
              " {'value': 'Polo Blue by Ralph Lauren', 'score': 11.68},\n",
              " {'value': 'DuraTech Roof Support Trim', 'score': 12.06},\n",
              " {'value': 'Silver Metallic Foil Streamers', 'score': 12.07},\n",
              " {'value': 'Pro Pinstripe Jersey Sleeveles', 'score': 12.07},\n",
              " {'value': 'Amerlite Niche Sealing Ring', 'score': 12.07},\n",
              " {'value': 'Leftover Salmon', 'score': 12.3},\n",
              " {'value': 'Drunken Monkeys', 'score': 12.32},\n",
              " {'value': \"Alfred's Drum Method, Book 1\", 'score': 12.41}]"
            ]
          },
          "metadata": {},
          "execution_count": 51
        }
      ]
    },
    {
      "cell_type": "code",
      "source": [
        "# Euclidean Similarity\n",
        "get_recommendation_tfidf(product_id, unique_df, similarity = \"euclidean\", n=10)"
      ],
      "metadata": {
        "colab": {
          "base_uri": "https://localhost:8080/"
        },
        "id": "z2erxzMjIT10",
        "outputId": "ca03f8dd-4aeb-48e8-ed47-23eec8272b2f"
      },
      "execution_count": 52,
      "outputs": [
        {
          "output_type": "execute_result",
          "data": {
            "text/plain": [
              "[{'value': 'Fancyleo Christmas Glasses Frames 2 Pack Glittered Eyeglasses Glasses Set No Lens Kids Family Xmas Party Ornaments Gift',\n",
              "  'score': 1.37},\n",
              " {'value': 'storefront christmas LED Decoration Light Gold Color Star Shape Vine Wedding Party event',\n",
              "  'score': 1.38},\n",
              " {'value': '12ct Light Gunmetal Gray Shatterproof 4-Finish Christmas Ball Ornaments 4\" (100mm)',\n",
              "  'score': 1.38},\n",
              " {'value': '16 inches 40 inches \"MERRY CHRISTMAS\" Letter Foil Inflated Balloon Float Helium Aluminum Balloons for Christmas Decoration',\n",
              "  'score': 1.38},\n",
              " {'value': 'Is It To Late To Be Good Grinch Christmas Mens Tank Top Shirt',\n",
              "  'score': 1.4},\n",
              " {'value': 'Christopher Radko Glass Plum Frosty Snowman Christmas Ornament #1017624',\n",
              "  'score': 1.4},\n",
              " {'value': 'CMFUN Watercolor Brush Creative Flower Made with Ink Hand Painting for Your Designs Pillowcase 20x20 inch',\n",
              "  'score': 1.4},\n",
              " {'value': 'SKIN DECAL FOR OtterBox Symmetry Samsung Galaxy S7 Case - Christmas Snowflake Blue Ornaments DECAL, NOT A CASE',\n",
              "  'score': 1.4},\n",
              " {'value': \"Santa's Workshop Illinois Mascot and Flag Nutcracker\",\n",
              "  'score': 1.4},\n",
              " {'value': 'The Holiday Aisle LED C7 Faceted Christmas Light Bulb',\n",
              "  'score': 1.4}]"
            ]
          },
          "metadata": {},
          "execution_count": 52
        }
      ]
    },
    {
      "cell_type": "markdown",
      "source": [
        "## **Build a model using Word2vec Features**"
      ],
      "metadata": {
        "id": "i-lJP1TBIfi1"
      }
    },
    {
      "cell_type": "code",
      "source": [
        "#Comparing similarity to get the top matches using Word2vec pretrained model\n",
        "def get_recommendation_word2vec(product_id, df, similarity, n=10):\n",
        "\n",
        "    row = df.loc[df['Product Name'] == product_id]\n",
        "    input_index = list(row.index)[0]\n",
        "    description = row['desc_lowered'].loc[input_index]\n",
        "\n",
        "    #create vectors for each desc using word2vec\n",
        "    vector_matrix = np.empty((len(desc_list), 300))\n",
        "    for index, each_sentence in enumerate(desc_list):\n",
        "        sentence_vector = np.zeros((300,))\n",
        "        count  = 0\n",
        "        for each_word in each_sentence.split():\n",
        "            try:\n",
        "                sentence_vector += word2vecModel[each_word]\n",
        "                count += 1\n",
        "            except:\n",
        "                continue\n",
        "\n",
        "        vector_matrix[index] = sentence_vector\n",
        "\n",
        "    if similarity == \"cosine\":\n",
        "        sim_matrix = cosine_similarity(vector_matrix)\n",
        "        products = find_similarity(sim_matrix , input_index)\n",
        "\n",
        "    elif similarity == \"manhattan\":\n",
        "        sim_matrix = manhattan_distances(vector_matrix)\n",
        "        products = find_manhattan_distance(sim_matrix , input_index)\n",
        "\n",
        "    else:\n",
        "        sim_matrix = euclidean_distances(vector_matrix)\n",
        "        products = find_euclidean_distances(sim_matrix , input_index)\n",
        "\n",
        "    return products"
      ],
      "metadata": {
        "id": "7nLLBMcJIavG"
      },
      "execution_count": 56,
      "outputs": []
    },
    {
      "cell_type": "code",
      "source": [
        "# Cosine Similarity\n",
        "get_recommendation_word2vec(product_id, unique_df, similarity = \"cosine\", n=10)"
      ],
      "metadata": {
        "colab": {
          "base_uri": "https://localhost:8080/"
        },
        "id": "OCn0j4hLLBSB",
        "outputId": "c42c5a07-2357-4438-c795-c6a9ff3df53d"
      },
      "execution_count": 57,
      "outputs": [
        {
          "output_type": "execute_result",
          "data": {
            "text/plain": [
              "[{'value': 'Fancyleo Christmas Glasses Frames 2 Pack Glittered Eyeglasses Glasses Set No Lens Kids Family Xmas Party Ornaments Gift',\n",
              "  'score': 0.85},\n",
              " {'value': 'Red Gift Wrap Bag by K-Kraft (Festive Red Stripes, 13 x 17.5 inches)',\n",
              "  'score': 0.85},\n",
              " {'value': '12 Pcs 3D Butterfly Stickers DIY Mural Art Decal Wall Stickers Crafts Wall Paper Decor (Yellow Series)',\n",
              "  'score': 0.84},\n",
              " {'value': 'Cat Mod Garden Complex - Unfinished/Black', 'score': 0.83},\n",
              " {'value': 'Three Things That Makes Good Coffee: Sugar, Sugar and More Sugar Wall Decal - wall decal, sticker, quotes and sayings - W5082 - Light pink, 35in x 18in',\n",
              "  'score': 0.82},\n",
              " {'value': 'Halloween Bats Wall Decal - Wall Sticker, Vinyl Wall Art, Home Decor, Wall Mural - W5014 - Royal blue, 16in x 10in',\n",
              "  'score': 0.82},\n",
              " {'value': 'Hibiscus Flowers Wall Decal - Wall Sticker, Vinyl Wall Art, Home Decor, Wall Mural - 2186 - 8in x 19in, Dark green',\n",
              "  'score': 0.82},\n",
              " {'value': 'Abstract Heart Plant Wall Decal - Wall Sticker, Vinyl Wall Art, Home Decor, Wall Mural - S125 - 12in x 13in, Royal blue',\n",
              "  'score': 0.82},\n",
              " {'value': 'Ecclesiastes 8:15 so I commend the enjoymentâ€¦ Vinyl Decal Sticker Quote - Small - Metallic Gold',\n",
              "  'score': 0.82},\n",
              " {'value': 'Pterosaur Wall Decal - dinosaur wall decal, sticker, mural vinyl art home decor - 3765 - Orange, 47in x 24in',\n",
              "  'score': 0.82}]"
            ]
          },
          "metadata": {},
          "execution_count": 57
        }
      ]
    },
    {
      "cell_type": "code",
      "source": [
        "# Manhattan Similarity\n",
        "get_recommendation_word2vec(product_id, unique_df, similarity = \"manhattan\", n=10)"
      ],
      "metadata": {
        "colab": {
          "base_uri": "https://localhost:8080/"
        },
        "id": "-IE09qpLLF6V",
        "outputId": "185e429d-ea7f-40db-abcb-f299c9dabc47"
      },
      "execution_count": 58,
      "outputs": [
        {
          "output_type": "execute_result",
          "data": {
            "text/plain": [
              "[{'value': 'storefront christmas LED Decoration Light Gold Color Star Shape Vine Wedding Party event',\n",
              "  'score': 458.13},\n",
              " {'value': '8 1/2 x 14 Cardstock - Crystal Metallic (500 Qty.)',\n",
              "  'score': 488.19},\n",
              " {'value': 'Cavalier Spaniel St. Patricks Day Shamrock Mouse Pad&#44; Hot Pad Or Trivet',\n",
              "  'score': 497.0},\n",
              " {'value': \"Call of the Wild Howling the Full Moon Women's Racerback Alpha Wolf\",\n",
              "  'score': 509.22},\n",
              " {'value': 'Fringe Table Skirt Purple 9 ft x 29 inches Pkg/1',\n",
              "  'score': 516.08},\n",
              " {'value': 'Trend Enterprises T-83315 1.25 in. Holiday Pals & Peppermint Scratch N Sniff Stinky Stickers&#44; Large Round',\n",
              "  'score': 522.0},\n",
              " {'value': \"Allwitty 1039 - Women's T-Shirt Ipac Pistol Gun Apple Iphone Parody\",\n",
              "  'score': 525.03},\n",
              " {'value': 'Clear 18 Note Acrylic Box Musical Paperweight - Light My Fire',\n",
              "  'score': 526.08},\n",
              " {'value': 'Handcrafted Ercolano Music Box Featuring \"Luncheon of the Boating Party\" by Renoir, Pierre Auguste - New YorkNew York',\n",
              "  'score': 527.88},\n",
              " {'value': 'Platinum 5 mm Comfort Fit Half Round Wedding Band - Size 9.5',\n",
              "  'score': 528.08}]"
            ]
          },
          "metadata": {},
          "execution_count": 58
        }
      ]
    },
    {
      "cell_type": "code",
      "source": [
        "# Euclidean Similarity\n",
        "get_recommendation_word2vec(product_id, unique_df, similarity = \"euclidean\", n=10)"
      ],
      "metadata": {
        "colab": {
          "base_uri": "https://localhost:8080/"
        },
        "id": "dRJakJQPLQmJ",
        "outputId": "857571f3-d54a-46ab-e77c-115245973ac0"
      },
      "execution_count": 59,
      "outputs": [
        {
          "output_type": "execute_result",
          "data": {
            "text/plain": [
              "[{'value': 'storefront christmas LED Decoration Light Gold Color Star Shape Vine Wedding Party event',\n",
              "  'score': 32.76},\n",
              " {'value': '8 1/2 x 14 Cardstock - Crystal Metallic (500 Qty.)',\n",
              "  'score': 34.82},\n",
              " {'value': 'Cavalier Spaniel St. Patricks Day Shamrock Mouse Pad&#44; Hot Pad Or Trivet',\n",
              "  'score': 35.78},\n",
              " {'value': \"Call of the Wild Howling the Full Moon Women's Racerback Alpha Wolf\",\n",
              "  'score': 36.09},\n",
              " {'value': 'Fringe Table Skirt Purple 9 ft x 29 inches Pkg/1', 'score': 36.28},\n",
              " {'value': \"New Way 075 - Men's Sleeveless Fbi Female Body Inspector\",\n",
              "  'score': 37.43},\n",
              " {'value': 'Trend Enterprises T-83315 1.25 in. Holiday Pals & Peppermint Scratch N Sniff Stinky Stickers&#44; Large Round',\n",
              "  'score': 37.51},\n",
              " {'value': 'Platinum 5 mm Comfort Fit Half Round Wedding Band - Size 9.5',\n",
              "  'score': 37.6},\n",
              " {'value': 'Christmas Presents Between Friends Chinese Crested Black Sticky Note Holder',\n",
              "  'score': 37.78},\n",
              " {'value': 'Tulane Green Wave Muscle Mug', 'score': 37.85}]"
            ]
          },
          "metadata": {},
          "execution_count": 59
        }
      ]
    },
    {
      "cell_type": "markdown",
      "source": [
        "## **fastText**\n",
        "fastText is another word embedding method that is an extension of the word2vec model. Instead of learning vectors for words directly, fastText represents each word as an n-gram of characters. So, for example, take the word, “artificial” with n=3, the fastText representation of this word is <ar, art, rti, tif, ifi, fic, ici, ial, al>, where the angular brackets indicate the beginning and end of the word. This helps capture the meaning of shorter words and allows the embeddings to understand suffixes and prefixes."
      ],
      "metadata": {
        "id": "jU7Mf-ZEMD3q"
      }
    },
    {
      "cell_type": "code",
      "source": [
        "# Comparing similarity to get the top matches using fastText pretrained model\n",
        "\n",
        "def get_recommendation_fasttext(product_id, df, similarity, n=10):\n",
        "\n",
        "    row = df.loc[df['Product Name'] == product_id]\n",
        "    input_index = list(row.index)[0]\n",
        "    description = row['desc_lowered'].loc[input_index]\n",
        "\n",
        "    #create vectors for each description using fasttext\n",
        "    vector_matrix = np.empty((len(desc_list), 300))\n",
        "    for index, each_sentence in enumerate(desc_list):\n",
        "        sentence_vector = np.zeros((300,))\n",
        "        count  = 0\n",
        "        for each_word in each_sentence.split():\n",
        "            try:\n",
        "                sentence_vector += fasttext_model.wv[each_word]\n",
        "                count += 1\n",
        "            except:\n",
        "                continue\n",
        "\n",
        "        vector_matrix[index] = sentence_vector\n",
        "\n",
        "    if similarity == \"cosine\":\n",
        "        sim_matrix = cosine_similarity(vector_matrix)\n",
        "        products = find_similarity(sim_matrix , input_index)\n",
        "\n",
        "    elif similarity == \"manhattan\":\n",
        "        sim_matrix = manhattan_distances(vector_matrix)\n",
        "        products = find_manhattan_distance(sim_matrix , input_index)\n",
        "\n",
        "    else:\n",
        "        sim_matrix = euclidean_distances(vector_matrix)\n",
        "        products = find_euclidean_distances(sim_matrix , input_index)\n",
        "\n",
        "    return products\n",
        "# Cosine Similarity\n",
        "get_recommendation_fasttext(product_id, unique_df, similarity = \"cosine\", n=10)\n"
      ],
      "metadata": {
        "id": "pXb7uggHMCYV"
      },
      "execution_count": null,
      "outputs": []
    },
    {
      "cell_type": "markdown",
      "source": [
        "## **Build Model using GloVe Features**\n",
        "\n",
        "The advantage of GloVe is that, unlike Word2vec, GloVe does not rely just on local statistics (local context information of words), but incorporates global statistics (word co-occurrence) to obtain word vectors. But keep in mind that there’s quite a bit of synergy between the GloVe and Word2vec."
      ],
      "metadata": {
        "id": "iV7cTHoLMfFm"
      }
    },
    {
      "cell_type": "code",
      "source": [
        "# Comparing similarity to get the top matches using Glove pretrained model\n",
        "\n",
        "def get_recommendation_glove(product_id, df, similarity, n=10):\n",
        "\n",
        "    row = df.loc[df['Product Name'] == product_id]\n",
        "    input_index = list(row.index)[0]\n",
        "    description = row['desc_lowered'].loc[input_index]\n",
        "\n",
        "    #using glove embeddings to create vectors\n",
        "    vector_matrix = np.empty((len(desc_list), 300))\n",
        "    for index, each_sentence in enumerate(desc_list):\n",
        "        sentence_vector = np.zeros((300,))\n",
        "        count  = 0\n",
        "        for each_word in each_sentence.split():\n",
        "            try:\n",
        "                sentence_vector += glove_model[each_word]\n",
        "                count += 1\n",
        "\n",
        "            except:\n",
        "                continue\n",
        "\n",
        "        vector_matrix[index] = sentence_vector\n",
        "\n",
        "\n",
        "    if similarity == \"cosine\":\n",
        "        sim_matrix = cosine_similarity(vector_matrix)\n",
        "        products = find_similarity(sim_matrix , input_index)\n",
        "\n",
        "    elif similarity == \"manhattan\":\n",
        "        sim_matrix = manhattan_distances(vector_matrix)\n",
        "        products = find_manhattan_distance(sim_matrix , input_index)\n",
        "\n",
        "    else:\n",
        "        sim_matrix = euclidean_distances(vector_matrix)\n",
        "        products = find_euclidean_distances(sim_matrix , input_index)\n",
        "\n",
        "    return products"
      ],
      "metadata": {
        "id": "bUwKPUv-MXtu"
      },
      "execution_count": 62,
      "outputs": []
    },
    {
      "cell_type": "code",
      "source": [
        "# Cosine Similarity\n",
        "get_recommendation_glove(product_id, unique_df, similarity = \"cosine\", n=10)"
      ],
      "metadata": {
        "colab": {
          "base_uri": "https://localhost:8080/"
        },
        "id": "CU6NB-shNboU",
        "outputId": "3e1517c8-459e-47a7-be5f-68716aa13b81"
      },
      "execution_count": 63,
      "outputs": [
        {
          "output_type": "execute_result",
          "data": {
            "text/plain": [
              "[{'value': 'Red Gift Wrap Bag by K-Kraft (Festive Red Stripes, 13 x 17.5 inches)',\n",
              "  'score': 0.94},\n",
              " {'value': 'Cat Mod Garden Complex - Unfinished/Black', 'score': 0.93},\n",
              " {'value': 'CafePress - FIN Nuts Squirrel - Cute Infant Baby Football Bodysuit',\n",
              "  'score': 0.93},\n",
              " {'value': 'American Foxhound Christmas Sticky Note Holder BB8433SN',\n",
              "  'score': 0.93},\n",
              " {'value': 'CHAIM Street Sign Childrens Name Room Sign | Indoor/Outdoor | \\xa024\" Wide',\n",
              "  'score': 0.93},\n",
              " {'value': '12 Pcs 3D Butterfly Stickers DIY Mural Art Decal Wall Stickers Crafts Wall Paper Decor (Yellow Series)',\n",
              "  'score': 0.93},\n",
              " {'value': 'All Weather Cornhole Bags - Set of 8', 'score': 0.93},\n",
              " {'value': 'Ecclesiastes 8:15 so I commend the enjoymentâ€¦ Vinyl Decal Sticker Quote - Small - Metallic Gold',\n",
              "  'score': 0.93},\n",
              " {'value': 'Fancyleo Christmas Glasses Frames 2 Pack Glittered Eyeglasses Glasses Set No Lens Kids Family Xmas Party Ornaments Gift',\n",
              "  'score': 0.93},\n",
              " {'value': 'Buckle-Down DL-W30350-N Narrow 0.5\" Cassette', 'score': 0.93}]"
            ]
          },
          "metadata": {},
          "execution_count": 63
        }
      ]
    },
    {
      "cell_type": "code",
      "source": [
        "# Euclidean Similarity\n",
        "get_recommendation_glove(product_id, unique_df, similarity = \"euclidean\", n=10)"
      ],
      "metadata": {
        "colab": {
          "base_uri": "https://localhost:8080/"
        },
        "id": "Ktc7QKAONddG",
        "outputId": "b95cd99f-5715-45fa-b831-e0a55026f5ec"
      },
      "execution_count": 64,
      "outputs": [
        {
          "output_type": "execute_result",
          "data": {
            "text/plain": [
              "[{'value': 'Is It To Late To Be Good Grinch Christmas Mens Tank Top Shirt',\n",
              "  'score': 87.3},\n",
              " {'value': \"New Way 075 - Men's Sleeveless Fbi Female Body Inspector\",\n",
              "  'score': 88.33},\n",
              " {'value': '8 1/2 x 14 Cardstock - Crystal Metallic (500 Qty.)',\n",
              "  'score': 89.96},\n",
              " {'value': \"Allwitty 1039 - Women's T-Shirt Ipac Pistol Gun Apple Iphone Parody\",\n",
              "  'score': 90.29},\n",
              " {'value': '031 - Unisex Long-Sleeve T-Shirt Disobey V For Vendetta Anonymous Fawkes Mask',\n",
              "  'score': 91.6},\n",
              " {'value': \"1042 - Unisex Long-Sleeve T-Shirt Free Hugs And Maybe A Kiss If You're Lucky\",\n",
              "  'score': 92.37},\n",
              " {'value': 'Skin Decal For Beats By Dr. Dre Beats Pill Plus / Sugar Skull Girl',\n",
              "  'score': 92.46},\n",
              " {'value': 'Spiral Birthday Candles, 36 Count', 'score': 94.19},\n",
              " {'value': 'IN-70/65 Blue Paper Streamers 2PK', 'score': 95.41},\n",
              " {'value': '(2-Pack) StealthShields Tablet Screen Protector for Lenovo IdeaPad Yoga 11 (U...',\n",
              "  'score': 95.92}]"
            ]
          },
          "metadata": {},
          "execution_count": 64
        }
      ]
    },
    {
      "cell_type": "markdown",
      "source": [
        "## **co-occurrence matrix**\n",
        "The purpose of this matrix is to present the number of times each word appears in the same context. ."
      ],
      "metadata": {
        "id": "lgDGlfjhORfW"
      }
    },
    {
      "cell_type": "code",
      "source": [
        "# create cooccurence matrix\n",
        "\n",
        "#preprocessing\n",
        "df = Content_df.head(250)\n",
        "# Combining Product and Description\n",
        "df['Description'] = df['Product Name'] + ' ' +df['Description']\n",
        "unique_df = df.drop_duplicates(subset=['Description'], keep='first')\n",
        "unique_df['desc_lowered'] = unique_df['Description'].apply(lambda x: x.lower())\n",
        "unique_df['desc_lowered'] = unique_df['desc_lowered'].apply(lambda x: re.sub(r'[^\\w\\s]', '', x))\n",
        "desc_list = list(unique_df['desc_lowered'])\n",
        "\n",
        "co_ocr_vocab = []\n",
        "for i in desc_list:\n",
        "    [co_ocr_vocab.append(x) for x in i.split()]\n",
        "\n",
        "co_occur_vector_matrix = np.zeros((len(co_ocr_vocab), len(co_ocr_vocab)))\n",
        "\n",
        "for _, sent in enumerate(desc_list):\n",
        "    words = sent.split()\n",
        "    for index, word in enumerate(words):\n",
        "        if index != len(words)-1:\n",
        "            co_occur_vector_matrix[co_ocr_vocab.index(word)][co_ocr_vocab.index(words[index+1])] += 1"
      ],
      "metadata": {
        "colab": {
          "base_uri": "https://localhost:8080/"
        },
        "id": "VihMnViwN-oN",
        "outputId": "13f32ec0-295d-4961-d4b5-5714fa52d539"
      },
      "execution_count": 67,
      "outputs": [
        {
          "output_type": "stream",
          "name": "stderr",
          "text": [
            "<ipython-input-67-df54c66624a9>:6: SettingWithCopyWarning: \n",
            "A value is trying to be set on a copy of a slice from a DataFrame.\n",
            "Try using .loc[row_indexer,col_indexer] = value instead\n",
            "\n",
            "See the caveats in the documentation: https://pandas.pydata.org/pandas-docs/stable/user_guide/indexing.html#returning-a-view-versus-a-copy\n",
            "  df['Description'] = df['Product Name'] + ' ' +df['Description']\n",
            "<ipython-input-67-df54c66624a9>:8: SettingWithCopyWarning: \n",
            "A value is trying to be set on a copy of a slice from a DataFrame.\n",
            "Try using .loc[row_indexer,col_indexer] = value instead\n",
            "\n",
            "See the caveats in the documentation: https://pandas.pydata.org/pandas-docs/stable/user_guide/indexing.html#returning-a-view-versus-a-copy\n",
            "  unique_df['desc_lowered'] = unique_df['Description'].apply(lambda x: x.lower())\n",
            "<ipython-input-67-df54c66624a9>:9: SettingWithCopyWarning: \n",
            "A value is trying to be set on a copy of a slice from a DataFrame.\n",
            "Try using .loc[row_indexer,col_indexer] = value instead\n",
            "\n",
            "See the caveats in the documentation: https://pandas.pydata.org/pandas-docs/stable/user_guide/indexing.html#returning-a-view-versus-a-copy\n",
            "  unique_df['desc_lowered'] = unique_df['desc_lowered'].apply(lambda x: re.sub(r'[^\\w\\s]', '', x))\n"
          ]
        }
      ]
    },
    {
      "cell_type": "code",
      "source": [
        "# Comparing similarity to get the top matches using cooccurence matrix\n",
        "\n",
        "def get_recommendation_coccur(product_id, df, similarity, n=10):\n",
        "\n",
        "    row = df.loc[df['Product Name'] == product_id]\n",
        "    input_index = list(row.index)[0]\n",
        "    description = row['desc_lowered'].loc[input_index]\n",
        "\n",
        "    vector_matrix = np.empty((len(desc_list), len(co_ocr_vocab)))\n",
        "    for index, each_sentence in enumerate(desc_list):\n",
        "        sentence_vector = np.zeros((len(co_ocr_vocab),))\n",
        "        count  = 0\n",
        "        for each_word in each_sentence.split():\n",
        "            try:\n",
        "                sentence_vector += co_occur_vector_matrix[co_ocr_vocab.index(each_word)]\n",
        "                count += 1\n",
        "\n",
        "            except:\n",
        "                continue\n",
        "\n",
        "        vector_matrix[index] = sentence_vector/count\n",
        "\n",
        "\n",
        "    if similarity == \"cosine\":\n",
        "        sim_matrix = cosine_similarity(vector_matrix)\n",
        "        products = find_similarity(sim_matrix , index)\n",
        "\n",
        "    elif similarity == \"manhattan\":\n",
        "        sim_matrix = manhattan_distances(vector_matrix)\n",
        "        products = find_manhattan_distance(sim_matrix , index)\n",
        "\n",
        "    else:\n",
        "        sim_matrix = euclidean_distances(vector_matrix)\n",
        "        products = find_euclidean_distances(sim_matrix , index)\n",
        "\n",
        "    return products"
      ],
      "metadata": {
        "id": "c1sRz3IhOWlK"
      },
      "execution_count": 68,
      "outputs": []
    },
    {
      "cell_type": "code",
      "source": [
        "# Cosine Similarity\n",
        "get_recommendation_coccur(product_id, unique_df, similarity = \"cosine\", n=10)"
      ],
      "metadata": {
        "colab": {
          "base_uri": "https://localhost:8080/"
        },
        "id": "yK0ORRL7OtqX",
        "outputId": "bf5326e5-9bda-4b4f-87fe-5495aa9bd8f1"
      },
      "execution_count": 69,
      "outputs": [
        {
          "output_type": "execute_result",
          "data": {
            "text/plain": [
              "[{'value': 'Medi Comfort Closed Toe Knee Highs -15-20 mmHg Reg',\n",
              "  'score': 0.94},\n",
              " {'value': \"JustVH Women's Solid Henley V-Neck Casual Blouse Pleated Button Tunic Shirt Top\",\n",
              "  'score': 0.94},\n",
              " {'value': 'Toddler Kid Boys Girls Lightweight Breathable Trendy Slip-on Sneaker (6M US Toddler, Red)',\n",
              "  'score': 0.94},\n",
              " {'value': \"Pull-Ups Girls' Learning Designs Training Pants (Choose Pant Size and Count)\",\n",
              "  'score': 0.94},\n",
              " {'value': 'Ebe Reading Glasses Mens Womens Amber Red Oval Round Full Frame Anti Glare grade ckbdp9118',\n",
              "  'score': 0.92},\n",
              " {'value': \"CafePress - Surf's Up! - Men's Light Pajamas\", 'score': 0.91},\n",
              " {'value': 'Sculpey Polymer Clay Just Orange', 'score': 0.91},\n",
              " {'value': 'Ebe Women Reading Glasses Reader Cheaters Anti Reflective Lenses TR90 ry2209',\n",
              "  'score': 0.9},\n",
              " {'value': \"Dr. Comfort Paradise Women's Casual Shoe: 4.5 X-Wide (E-2E) Black Velcro\",\n",
              "  'score': 0.9},\n",
              " {'value': 'Basics - Blank Adult Hoodie Sweatshirt', 'score': 0.89}]"
            ]
          },
          "metadata": {},
          "execution_count": 69
        }
      ]
    },
    {
      "cell_type": "code",
      "source": [],
      "metadata": {
        "id": "-KBHSSTVOvn-"
      },
      "execution_count": null,
      "outputs": []
    }
  ]
}